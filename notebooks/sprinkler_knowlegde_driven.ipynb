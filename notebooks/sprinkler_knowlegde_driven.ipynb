{
  "nbformat": 4,
  "nbformat_minor": 0,
  "metadata": {
    "colab": {
      "provenance": []
    },
    "kernelspec": {
      "name": "python3",
      "display_name": "Python 3"
    },
    "language_info": {
      "name": "python"
    }
  },
  "cells": [
    {
      "cell_type": "markdown",
      "source": [
        "<!-- Centered logo -->\n",
        "<p align=\"center\">\n",
        "  <img src=\"https://github.com/erdogant/bnlearn/blob/master/docs/figs/logo.png?raw=true\" width=\"300\" />\n",
        "</p>\n",
        "\n",
        "<!-- Badges row (centered) -->\n",
        "<p align=\"center\">\n",
        "  <a href=\"https://img.shields.io/pypi/pyversions/bnlearn\"><img src=\"https://img.shields.io/pypi/pyversions/bnlearn\" /></a>\n",
        "  <a href=\"https://pypi.org/project/bnlearn/\"><img src=\"https://img.shields.io/pypi/v/bnlearn\" /></a>\n",
        "  <img src=\"https://img.shields.io/github/stars/erdogant/bnlearn\" />\n",
        "  <a href=\"https://github.com/erdogant/bnlearn/blob/master/LICENSE\"><img src=\"https://img.shields.io/badge/license-MIT-green.svg\" /></a>\n",
        "  <a href=\"https://github.com/erdogant/bnlearn/network\"><img src=\"https://img.shields.io/github/forks/erdogant/bnlearn.svg\" /></a>\n",
        "  <a href=\"https://github.com/erdogant/bnlearn/issues\"><img src=\"https://img.shields.io/github/issues/erdogant/bnlearn.svg\" /></a>\n",
        "  <a href=\"http://www.repostatus.org/#active\"><img src=\"http://www.repostatus.org/badges/latest/active.svg\" /></a>\n",
        "  <a href=\"https://pepy.tech/project/bnlearn/\"><img src=\"https://pepy.tech/badge/bnlearn/month\" /></a>\n",
        "  <a href=\"https://pepy.tech/project/bnlearn/\"><img src=\"https://pepy.tech/badge/bnlearn\" /></a>\n",
        "  <a href=\"https://zenodo.org/badge/latestdoi/231263493\"><img src=\"https://zenodo.org/badge/231263493.svg\" /></a>\n",
        "  <a href=\"https://erdogant.github.io/bnlearn/\"><img src=\"https://img.shields.io/badge/Sphinx-Docs-Green\" /></a>\n",
        "  <a href=\"https://erdogant.github.io/bnlearn/pages/html/Documentation.html#medium-blog\"><img src=\"https://img.shields.io/badge/Medium-Blog-black\" /></a>\n",
        "  <img src=\"https://img.shields.io/github/repo-size/erdogant/bnlearn\" />\n",
        "  <a href=\"https://erdogant.github.io/bnlearn/pages/html/Documentation.html#\"><img src=\"https://img.shields.io/badge/Support%20this%20project-grey.svg?logo=github%20sponsors\" /></a>\n",
        "  <a href=\"https://erdogant.github.io/bnlearn/pages/html/Documentation.html#colab-notebook\"><img src=\"https://colab.research.google.com/assets/colab-badge.svg\" /></a>\n",
        "</p>\n",
        "\n",
        "---\n",
        "\n",
        "# Bnlearn for Python\n",
        "\n",
        "Welcome to the notebook of **bnlearn**. bnlearn is Python package for learning the graphical structure of Bayesian networks, parameter learning, inference and sampling methods. Because probabilistic graphical models can be difficult in usage, Bnlearn for python (this package) is build on the pgmpy package and contains the most-wanted pipelines. Navigate to API documentations for more detailed information.\n",
        "\n",
        "The core functionalities are:\n",
        "<br>\n",
        "<b>* Causal Discovery</b>\n",
        "<br>\n",
        "<b>* Structure Learning</b>\n",
        "<br>\n",
        "<b>* Parameter Learning</b>\n",
        "<br>\n",
        "<b>* Inferences using do-calculus</b>\n",
        "<br>\n",
        "<br>\n",
        "\n",
        "---\n",
        "\n",
        "### Find details in the Medium blogs.\n",
        "\n",
        "\n",
        "<style>\n",
        ".card-container {\n",
        "  display: flex;\n",
        "  flex-wrap: wrap;\n",
        "  gap: 16px;\n",
        "  justify-content: center;\n",
        "  margin-top: 20px;\n",
        "}\n",
        "\n",
        ".card {\n",
        "  flex: 1 1 300px;\n",
        "  max-width: 300px;\n",
        "  background: #f9f9f9;\n",
        "  border: 1px solid #ddd;\n",
        "  border-radius: 12px;\n",
        "  padding: 16px;\n",
        "  box-shadow: 2px 2px 10px rgba(0,0,0,0.05);\n",
        "  transition: 0.3s;\n",
        "}\n",
        "\n",
        ".card:hover {\n",
        "  transform: scale(1.02);\n",
        "  box-shadow: 4px 4px 20px rgba(0,0,0,0.1);\n",
        "}\n",
        "\n",
        ".card a {\n",
        "  text-decoration: none;\n",
        "  font-weight: bold;\n",
        "  color: #333;\n",
        "  font-size: 16px;\n",
        "}\n",
        "\n",
        ".card a:hover {\n",
        "  color: #1e90ff;\n",
        "}\n",
        "</style>\n",
        "\n",
        "<div class=\"card-container\">\n",
        "  <div class=\"card\">\n",
        "    <a href=\"https://medium.com/data-science-collective/the-starters-guide-to-causal-structure-learning-with-bayesian-methods-in-python-e3b90f49c99c\" target=\"_blank\">\n",
        "      1. The Starters Guide to Causal Structure Learning with Bayesian Methods in Python.\n",
        "    </a>\n",
        "  </div>\n",
        "  <div class=\"card\">\n",
        "    <a href=\"https://medium.com/data-science-collective/why-prediction-isnt-enough-using-bayesian-models-to-change-the-outcome-5c9cf9f65a75\" target=\"_blank\">\n",
        "      2. Why Prediction Isn’t Enough: Using Bayesian Models to Change the Outcome.\n",
        "    </a>\n",
        "  </div>\n",
        "  <div class=\"card\">\n",
        "    <a href=\"https://medium.com/data-science-collective/synthetic-data-the-essentials-of-data-generation-using-bayesian-sampling-6d072e97e09d\" target=\"_blank\">\n",
        "      3. Synthetic Data: The Essentials Of Data Generation Using Bayesian Sampling.\n",
        "    </a>\n",
        "  </div>\n",
        "</div>\n",
        "\n",
        "\n",
        "\n",
        "---\n",
        "\n",
        "### Support\n",
        "This library is for <b>free</b> but it runs on coffee! :)\n",
        "\n",
        "You can [support](https://erdogant.github.io/pca/pages/html/Documentation.html) in various ways, have a look at the [sponser page](https://erdogant.github.io/bnlearn/pages/html/Documentation.html). Report bugs, issues and feature extensions at [github page](https://github.com/erdogant/bnlearn).\n",
        "\n",
        "<table>\n",
        "  <tr>\n",
        "    <td style=\"text-align: center;\">\n",
        "      <a href=\"https://www.buymeacoffee.com/erdogant\">\n",
        "        <img src=\"https://img.buymeacoffee.com/button-api/?text=Buy me a coffee&emoji=&slug=erdogant&button_colour=FFDD00&font_colour=000000&font_family=Cookie&outline_colour=000000&coffee_colour=ffffff\" />\n",
        "      </a>\n",
        "    </td>\n",
        "    <td style=\"text-align: center;\">\n",
        "      <a href=\"https://erdogant.medium.com/subscribe\" target=\"_blank\">\n",
        "        <img height=\"50\" style=\"border:0px;height:36px;\" src=\"https://erdogant.github.io/images/medium_follow_me.jpg\" border=\"0\" alt=\"Follow me on Medium\" />\n",
        "      </a>\n",
        "    </td>\n",
        "  </tr>\n",
        "</table>\n",
        "\n",
        "---\n"
      ],
      "metadata": {
        "id": "U-syuXZqfw5S"
      }
    },
    {
      "cell_type": "code",
      "metadata": {
        "id": "LIVD4xiUXOxu"
      },
      "source": [
        "!pip install bnlearn"
      ],
      "execution_count": null,
      "outputs": []
    },
    {
      "cell_type": "code",
      "metadata": {
        "id": "efwDxeECXQU5"
      },
      "source": [
        "import bnlearn as bn"
      ],
      "execution_count": 2,
      "outputs": []
    },
    {
      "cell_type": "code",
      "metadata": {
        "colab": {
          "base_uri": "https://localhost:8080/"
        },
        "id": "_0XmIzZZXTCt",
        "outputId": "f3ca58b8-c594-4d67-ff03-c86c093deffb"
      },
      "source": [
        "# Define the causal dependencies based on your expert/domain knowledge.\n",
        "# Left is the source, and right is the target node.\n",
        "edges = [('Cloudy', 'Sprinkler'),\n",
        "         ('Cloudy', 'Rain'),\n",
        "         ('Sprinkler', 'Wet_Grass'),\n",
        "         ('Rain', 'Wet_Grass')]\n",
        "\n",
        "\n",
        "# Create the DAG\n",
        "DAG = bn.make_DAG(edges)\n"
      ],
      "execution_count": 15,
      "outputs": [
        {
          "output_type": "stream",
          "name": "stdout",
          "text": [
            "[bnlearn]> Auto generate placeholders for the CPTs.\n",
            "[bnlearn] >CPT for Sprinkler:\n",
            "+--------------+-----------+-----------+\n",
            "| Cloudy       | Cloudy(0) | Cloudy(1) |\n",
            "+--------------+-----------+-----------+\n",
            "| Sprinkler(0) | 0.5       | 0.5       |\n",
            "+--------------+-----------+-----------+\n",
            "| Sprinkler(1) | 0.5       | 0.5       |\n",
            "+--------------+-----------+-----------+\n",
            "[bnlearn] >CPT for Rain:\n",
            "+---------+-----------+-----------+\n",
            "| Cloudy  | Cloudy(0) | Cloudy(1) |\n",
            "+---------+-----------+-----------+\n",
            "| Rain(0) | 0.5       | 0.5       |\n",
            "+---------+-----------+-----------+\n",
            "| Rain(1) | 0.5       | 0.5       |\n",
            "+---------+-----------+-----------+\n",
            "[bnlearn] >CPT for Wet_Grass:\n",
            "+--------------+--------------+--------------+--------------+--------------+\n",
            "| Sprinkler    | Sprinkler(0) | Sprinkler(0) | Sprinkler(1) | Sprinkler(1) |\n",
            "+--------------+--------------+--------------+--------------+--------------+\n",
            "| Rain         | Rain(0)      | Rain(1)      | Rain(0)      | Rain(1)      |\n",
            "+--------------+--------------+--------------+--------------+--------------+\n",
            "| Wet_Grass(0) | 0.5          | 0.5          | 0.5          | 0.5          |\n",
            "+--------------+--------------+--------------+--------------+--------------+\n",
            "| Wet_Grass(1) | 0.5          | 0.5          | 0.5          | 0.5          |\n",
            "+--------------+--------------+--------------+--------------+--------------+\n",
            "[bnlearn] >CPT for Cloudy:\n",
            "+-----------+-----+\n",
            "| Cloudy(0) | 0.5 |\n",
            "+-----------+-----+\n",
            "| Cloudy(1) | 0.5 |\n",
            "+-----------+-----+\n",
            "[bnlearn] >bayes DAG created.\n",
            "[bnlearn] >[CPD > Update  ] >[Node Sprinkler]\n",
            "[bnlearn] >[CPD > Update  ] >[Node Rain]\n",
            "[bnlearn] >[CPD > Update  ] >[Node Wet_Grass]\n",
            "[bnlearn] >[CPD > Update  ] >[Node Cloudy]\n",
            "[bnlearn] >[CPD > Validate] >[Node Sprinkler] >OK\n",
            "[bnlearn] >[CPD > Validate] >[Node Rain] >OK\n",
            "[bnlearn] >[CPD > Validate] >[Node Wet_Grass] >OK\n",
            "[bnlearn] >[CPD > Validate] >[Node Cloudy] >OK\n"
          ]
        }
      ]
    },
    {
      "cell_type": "code",
      "source": [
        "# Plot the DAG\n",
        "# bn.plot(DAG)\n",
        "bn.plot_graphviz(DAG)"
      ],
      "metadata": {
        "id": "6aiBKjvZhOSX",
        "outputId": "b810d6db-ed92-4cf2-ea0a-c194df19f5cc",
        "colab": {
          "base_uri": "https://localhost:8080/",
          "height": 381
        }
      },
      "execution_count": 16,
      "outputs": [
        {
          "output_type": "stream",
          "name": "stderr",
          "text": [
            "[20-09-2025 19:06:09] [setgraphviz.setgraphviz] [INFO] The OS is not supported to automatically set Graphviz in the system env.\n",
            "[20-09-2025 19:06:09] [setgraphviz.setgraphviz] [INFO] The OS is not supported to automatically set Graphviz in the system env.\n",
            "[20-09-2025 19:06:09] [setgraphviz.setgraphviz] [INFO] Graphviz path found in environment.\n",
            "[20-09-2025 19:06:09] [setgraphviz.setgraphviz] [INFO] Graphviz path found in environment.\n"
          ]
        },
        {
          "output_type": "execute_result",
          "data": {
            "image/svg+xml": "<?xml version=\"1.0\" encoding=\"UTF-8\" standalone=\"no\"?>\n<!DOCTYPE svg PUBLIC \"-//W3C//DTD SVG 1.1//EN\"\n \"http://www.w3.org/Graphics/SVG/1.1/DTD/svg11.dtd\">\n<!-- Generated by graphviz version 2.43.0 (0)\n -->\n<!-- Title: %3 Pages: 1 -->\n<svg width=\"168pt\" height=\"218pt\"\n viewBox=\"0.00 0.00 167.84 218.00\" xmlns=\"http://www.w3.org/2000/svg\" xmlns:xlink=\"http://www.w3.org/1999/xlink\">\n<g id=\"graph0\" class=\"graph\" transform=\"scale(1 1) rotate(0) translate(4 214)\">\n<title>%3</title>\n<polygon fill=\"white\" stroke=\"transparent\" points=\"-4,4 -4,-214 163.84,-214 163.84,4 -4,4\"/>\n<!-- Cloudy -->\n<g id=\"node1\" class=\"node\">\n<title>Cloudy</title>\n<ellipse fill=\"none\" stroke=\"black\" cx=\"87.55\" cy=\"-192\" rx=\"36.29\" ry=\"18\"/>\n<text text-anchor=\"middle\" x=\"87.55\" y=\"-188.3\" font-family=\"Times,serif\" font-size=\"14.00\">Cloudy</text>\n</g>\n<!-- Sprinkler -->\n<g id=\"node2\" class=\"node\">\n<title>Sprinkler</title>\n<ellipse fill=\"none\" stroke=\"black\" cx=\"43.55\" cy=\"-105\" rx=\"43.59\" ry=\"18\"/>\n<text text-anchor=\"middle\" x=\"43.55\" y=\"-101.3\" font-family=\"Times,serif\" font-size=\"14.00\">Sprinkler</text>\n</g>\n<!-- Cloudy&#45;&gt;Sprinkler -->\n<g id=\"edge1\" class=\"edge\">\n<title>Cloudy&#45;&gt;Sprinkler</title>\n<path fill=\"none\" stroke=\"black\" d=\"M78.85,-174.21C72.59,-162.1 64.01,-145.53 56.88,-131.76\"/>\n<polygon fill=\"black\" stroke=\"black\" points=\"59.93,-130.03 52.22,-122.76 53.71,-133.25 59.93,-130.03\"/>\n<text text-anchor=\"middle\" x=\"81.05\" y=\"-144.8\" font-family=\"Times,serif\" font-size=\"14.00\">1.00</text>\n</g>\n<!-- Rain -->\n<g id=\"node3\" class=\"node\">\n<title>Rain</title>\n<ellipse fill=\"none\" stroke=\"black\" cx=\"132.55\" cy=\"-105\" rx=\"27.1\" ry=\"18\"/>\n<text text-anchor=\"middle\" x=\"132.55\" y=\"-101.3\" font-family=\"Times,serif\" font-size=\"14.00\">Rain</text>\n</g>\n<!-- Cloudy&#45;&gt;Rain -->\n<g id=\"edge2\" class=\"edge\">\n<title>Cloudy&#45;&gt;Rain</title>\n<path fill=\"none\" stroke=\"black\" d=\"M96.44,-174.21C102.93,-161.94 111.85,-145.1 119.19,-131.22\"/>\n<polygon fill=\"black\" stroke=\"black\" points=\"122.39,-132.66 123.98,-122.18 116.21,-129.38 122.39,-132.66\"/>\n<text text-anchor=\"middle\" x=\"126.05\" y=\"-144.8\" font-family=\"Times,serif\" font-size=\"14.00\">1.00</text>\n</g>\n<!-- Wet_Grass -->\n<g id=\"node4\" class=\"node\">\n<title>Wet_Grass</title>\n<ellipse fill=\"none\" stroke=\"black\" cx=\"87.55\" cy=\"-18\" rx=\"49.29\" ry=\"18\"/>\n<text text-anchor=\"middle\" x=\"87.55\" y=\"-14.3\" font-family=\"Times,serif\" font-size=\"14.00\">Wet_Grass</text>\n</g>\n<!-- Sprinkler&#45;&gt;Wet_Grass -->\n<g id=\"edge3\" class=\"edge\">\n<title>Sprinkler&#45;&gt;Wet_Grass</title>\n<path fill=\"none\" stroke=\"black\" d=\"M52.24,-87.21C58.51,-75.1 67.08,-58.53 74.21,-44.76\"/>\n<polygon fill=\"black\" stroke=\"black\" points=\"77.38,-46.25 78.87,-35.76 71.17,-43.03 77.38,-46.25\"/>\n<text text-anchor=\"middle\" x=\"81.05\" y=\"-57.8\" font-family=\"Times,serif\" font-size=\"14.00\">1.00</text>\n</g>\n<!-- Rain&#45;&gt;Wet_Grass -->\n<g id=\"edge4\" class=\"edge\">\n<title>Rain&#45;&gt;Wet_Grass</title>\n<path fill=\"none\" stroke=\"black\" d=\"M123.87,-87.61C117.48,-75.54 108.66,-58.88 101.31,-45\"/>\n<polygon fill=\"black\" stroke=\"black\" points=\"104.28,-43.12 96.5,-35.92 98.09,-46.4 104.28,-43.12\"/>\n<text text-anchor=\"middle\" x=\"126.05\" y=\"-57.8\" font-family=\"Times,serif\" font-size=\"14.00\">1.00</text>\n</g>\n</g>\n</svg>\n",
            "text/plain": [
              "<graphviz.graphs.Digraph at 0x7efe04bce630>"
            ]
          },
          "metadata": {},
          "execution_count": 16
        }
      ]
    },
    {
      "cell_type": "code",
      "source": [
        "# DAG is stored in an adjacency matrix\n",
        "DAG[\"adjmat\"]"
      ],
      "metadata": {
        "id": "RC-aZ5T5hPnf",
        "outputId": "e5b1361b-47ae-4839-feb7-79cb63945453",
        "colab": {
          "base_uri": "https://localhost:8080/",
          "height": 206
        }
      },
      "execution_count": 17,
      "outputs": [
        {
          "output_type": "execute_result",
          "data": {
            "text/plain": [
              "target     Cloudy  Sprinkler   Rain  Wet_Grass\n",
              "source                                        \n",
              "Cloudy      False       True   True      False\n",
              "Sprinkler   False      False  False       True\n",
              "Rain        False      False  False       True\n",
              "Wet_Grass   False      False  False      False"
            ],
            "text/html": [
              "\n",
              "  <div id=\"df-4b4072dc-8178-43ed-a718-3617a1c2e0af\" class=\"colab-df-container\">\n",
              "    <div>\n",
              "<style scoped>\n",
              "    .dataframe tbody tr th:only-of-type {\n",
              "        vertical-align: middle;\n",
              "    }\n",
              "\n",
              "    .dataframe tbody tr th {\n",
              "        vertical-align: top;\n",
              "    }\n",
              "\n",
              "    .dataframe thead th {\n",
              "        text-align: right;\n",
              "    }\n",
              "</style>\n",
              "<table border=\"1\" class=\"dataframe\">\n",
              "  <thead>\n",
              "    <tr style=\"text-align: right;\">\n",
              "      <th>target</th>\n",
              "      <th>Cloudy</th>\n",
              "      <th>Sprinkler</th>\n",
              "      <th>Rain</th>\n",
              "      <th>Wet_Grass</th>\n",
              "    </tr>\n",
              "    <tr>\n",
              "      <th>source</th>\n",
              "      <th></th>\n",
              "      <th></th>\n",
              "      <th></th>\n",
              "      <th></th>\n",
              "    </tr>\n",
              "  </thead>\n",
              "  <tbody>\n",
              "    <tr>\n",
              "      <th>Cloudy</th>\n",
              "      <td>False</td>\n",
              "      <td>True</td>\n",
              "      <td>True</td>\n",
              "      <td>False</td>\n",
              "    </tr>\n",
              "    <tr>\n",
              "      <th>Sprinkler</th>\n",
              "      <td>False</td>\n",
              "      <td>False</td>\n",
              "      <td>False</td>\n",
              "      <td>True</td>\n",
              "    </tr>\n",
              "    <tr>\n",
              "      <th>Rain</th>\n",
              "      <td>False</td>\n",
              "      <td>False</td>\n",
              "      <td>False</td>\n",
              "      <td>True</td>\n",
              "    </tr>\n",
              "    <tr>\n",
              "      <th>Wet_Grass</th>\n",
              "      <td>False</td>\n",
              "      <td>False</td>\n",
              "      <td>False</td>\n",
              "      <td>False</td>\n",
              "    </tr>\n",
              "  </tbody>\n",
              "</table>\n",
              "</div>\n",
              "    <div class=\"colab-df-buttons\">\n",
              "\n",
              "  <div class=\"colab-df-container\">\n",
              "    <button class=\"colab-df-convert\" onclick=\"convertToInteractive('df-4b4072dc-8178-43ed-a718-3617a1c2e0af')\"\n",
              "            title=\"Convert this dataframe to an interactive table.\"\n",
              "            style=\"display:none;\">\n",
              "\n",
              "  <svg xmlns=\"http://www.w3.org/2000/svg\" height=\"24px\" viewBox=\"0 -960 960 960\">\n",
              "    <path d=\"M120-120v-720h720v720H120Zm60-500h600v-160H180v160Zm220 220h160v-160H400v160Zm0 220h160v-160H400v160ZM180-400h160v-160H180v160Zm440 0h160v-160H620v160ZM180-180h160v-160H180v160Zm440 0h160v-160H620v160Z\"/>\n",
              "  </svg>\n",
              "    </button>\n",
              "\n",
              "  <style>\n",
              "    .colab-df-container {\n",
              "      display:flex;\n",
              "      gap: 12px;\n",
              "    }\n",
              "\n",
              "    .colab-df-convert {\n",
              "      background-color: #E8F0FE;\n",
              "      border: none;\n",
              "      border-radius: 50%;\n",
              "      cursor: pointer;\n",
              "      display: none;\n",
              "      fill: #1967D2;\n",
              "      height: 32px;\n",
              "      padding: 0 0 0 0;\n",
              "      width: 32px;\n",
              "    }\n",
              "\n",
              "    .colab-df-convert:hover {\n",
              "      background-color: #E2EBFA;\n",
              "      box-shadow: 0px 1px 2px rgba(60, 64, 67, 0.3), 0px 1px 3px 1px rgba(60, 64, 67, 0.15);\n",
              "      fill: #174EA6;\n",
              "    }\n",
              "\n",
              "    .colab-df-buttons div {\n",
              "      margin-bottom: 4px;\n",
              "    }\n",
              "\n",
              "    [theme=dark] .colab-df-convert {\n",
              "      background-color: #3B4455;\n",
              "      fill: #D2E3FC;\n",
              "    }\n",
              "\n",
              "    [theme=dark] .colab-df-convert:hover {\n",
              "      background-color: #434B5C;\n",
              "      box-shadow: 0px 1px 3px 1px rgba(0, 0, 0, 0.15);\n",
              "      filter: drop-shadow(0px 1px 2px rgba(0, 0, 0, 0.3));\n",
              "      fill: #FFFFFF;\n",
              "    }\n",
              "  </style>\n",
              "\n",
              "    <script>\n",
              "      const buttonEl =\n",
              "        document.querySelector('#df-4b4072dc-8178-43ed-a718-3617a1c2e0af button.colab-df-convert');\n",
              "      buttonEl.style.display =\n",
              "        google.colab.kernel.accessAllowed ? 'block' : 'none';\n",
              "\n",
              "      async function convertToInteractive(key) {\n",
              "        const element = document.querySelector('#df-4b4072dc-8178-43ed-a718-3617a1c2e0af');\n",
              "        const dataTable =\n",
              "          await google.colab.kernel.invokeFunction('convertToInteractive',\n",
              "                                                    [key], {});\n",
              "        if (!dataTable) return;\n",
              "\n",
              "        const docLinkHtml = 'Like what you see? Visit the ' +\n",
              "          '<a target=\"_blank\" href=https://colab.research.google.com/notebooks/data_table.ipynb>data table notebook</a>'\n",
              "          + ' to learn more about interactive tables.';\n",
              "        element.innerHTML = '';\n",
              "        dataTable['output_type'] = 'display_data';\n",
              "        await google.colab.output.renderOutput(dataTable, element);\n",
              "        const docLink = document.createElement('div');\n",
              "        docLink.innerHTML = docLinkHtml;\n",
              "        element.appendChild(docLink);\n",
              "      }\n",
              "    </script>\n",
              "  </div>\n",
              "\n",
              "\n",
              "    <div id=\"df-e33737f3-7be1-4675-be42-0d0a190f3eff\">\n",
              "      <button class=\"colab-df-quickchart\" onclick=\"quickchart('df-e33737f3-7be1-4675-be42-0d0a190f3eff')\"\n",
              "                title=\"Suggest charts\"\n",
              "                style=\"display:none;\">\n",
              "\n",
              "<svg xmlns=\"http://www.w3.org/2000/svg\" height=\"24px\"viewBox=\"0 0 24 24\"\n",
              "     width=\"24px\">\n",
              "    <g>\n",
              "        <path d=\"M19 3H5c-1.1 0-2 .9-2 2v14c0 1.1.9 2 2 2h14c1.1 0 2-.9 2-2V5c0-1.1-.9-2-2-2zM9 17H7v-7h2v7zm4 0h-2V7h2v10zm4 0h-2v-4h2v4z\"/>\n",
              "    </g>\n",
              "</svg>\n",
              "      </button>\n",
              "\n",
              "<style>\n",
              "  .colab-df-quickchart {\n",
              "      --bg-color: #E8F0FE;\n",
              "      --fill-color: #1967D2;\n",
              "      --hover-bg-color: #E2EBFA;\n",
              "      --hover-fill-color: #174EA6;\n",
              "      --disabled-fill-color: #AAA;\n",
              "      --disabled-bg-color: #DDD;\n",
              "  }\n",
              "\n",
              "  [theme=dark] .colab-df-quickchart {\n",
              "      --bg-color: #3B4455;\n",
              "      --fill-color: #D2E3FC;\n",
              "      --hover-bg-color: #434B5C;\n",
              "      --hover-fill-color: #FFFFFF;\n",
              "      --disabled-bg-color: #3B4455;\n",
              "      --disabled-fill-color: #666;\n",
              "  }\n",
              "\n",
              "  .colab-df-quickchart {\n",
              "    background-color: var(--bg-color);\n",
              "    border: none;\n",
              "    border-radius: 50%;\n",
              "    cursor: pointer;\n",
              "    display: none;\n",
              "    fill: var(--fill-color);\n",
              "    height: 32px;\n",
              "    padding: 0;\n",
              "    width: 32px;\n",
              "  }\n",
              "\n",
              "  .colab-df-quickchart:hover {\n",
              "    background-color: var(--hover-bg-color);\n",
              "    box-shadow: 0 1px 2px rgba(60, 64, 67, 0.3), 0 1px 3px 1px rgba(60, 64, 67, 0.15);\n",
              "    fill: var(--button-hover-fill-color);\n",
              "  }\n",
              "\n",
              "  .colab-df-quickchart-complete:disabled,\n",
              "  .colab-df-quickchart-complete:disabled:hover {\n",
              "    background-color: var(--disabled-bg-color);\n",
              "    fill: var(--disabled-fill-color);\n",
              "    box-shadow: none;\n",
              "  }\n",
              "\n",
              "  .colab-df-spinner {\n",
              "    border: 2px solid var(--fill-color);\n",
              "    border-color: transparent;\n",
              "    border-bottom-color: var(--fill-color);\n",
              "    animation:\n",
              "      spin 1s steps(1) infinite;\n",
              "  }\n",
              "\n",
              "  @keyframes spin {\n",
              "    0% {\n",
              "      border-color: transparent;\n",
              "      border-bottom-color: var(--fill-color);\n",
              "      border-left-color: var(--fill-color);\n",
              "    }\n",
              "    20% {\n",
              "      border-color: transparent;\n",
              "      border-left-color: var(--fill-color);\n",
              "      border-top-color: var(--fill-color);\n",
              "    }\n",
              "    30% {\n",
              "      border-color: transparent;\n",
              "      border-left-color: var(--fill-color);\n",
              "      border-top-color: var(--fill-color);\n",
              "      border-right-color: var(--fill-color);\n",
              "    }\n",
              "    40% {\n",
              "      border-color: transparent;\n",
              "      border-right-color: var(--fill-color);\n",
              "      border-top-color: var(--fill-color);\n",
              "    }\n",
              "    60% {\n",
              "      border-color: transparent;\n",
              "      border-right-color: var(--fill-color);\n",
              "    }\n",
              "    80% {\n",
              "      border-color: transparent;\n",
              "      border-right-color: var(--fill-color);\n",
              "      border-bottom-color: var(--fill-color);\n",
              "    }\n",
              "    90% {\n",
              "      border-color: transparent;\n",
              "      border-bottom-color: var(--fill-color);\n",
              "    }\n",
              "  }\n",
              "</style>\n",
              "\n",
              "      <script>\n",
              "        async function quickchart(key) {\n",
              "          const quickchartButtonEl =\n",
              "            document.querySelector('#' + key + ' button');\n",
              "          quickchartButtonEl.disabled = true;  // To prevent multiple clicks.\n",
              "          quickchartButtonEl.classList.add('colab-df-spinner');\n",
              "          try {\n",
              "            const charts = await google.colab.kernel.invokeFunction(\n",
              "                'suggestCharts', [key], {});\n",
              "          } catch (error) {\n",
              "            console.error('Error during call to suggestCharts:', error);\n",
              "          }\n",
              "          quickchartButtonEl.classList.remove('colab-df-spinner');\n",
              "          quickchartButtonEl.classList.add('colab-df-quickchart-complete');\n",
              "        }\n",
              "        (() => {\n",
              "          let quickchartButtonEl =\n",
              "            document.querySelector('#df-e33737f3-7be1-4675-be42-0d0a190f3eff button');\n",
              "          quickchartButtonEl.style.display =\n",
              "            google.colab.kernel.accessAllowed ? 'block' : 'none';\n",
              "        })();\n",
              "      </script>\n",
              "    </div>\n",
              "\n",
              "    </div>\n",
              "  </div>\n"
            ],
            "application/vnd.google.colaboratory.intrinsic+json": {
              "type": "dataframe",
              "summary": "{\n  \"name\": \"DAG[\\\"adjmat\\\"]\",\n  \"rows\": 4,\n  \"fields\": [\n    {\n      \"column\": \"source\",\n      \"properties\": {\n        \"dtype\": \"string\",\n        \"num_unique_values\": 4,\n        \"samples\": [\n          \"Sprinkler\",\n          \"Wet_Grass\",\n          \"Cloudy\"\n        ],\n        \"semantic_type\": \"\",\n        \"description\": \"\"\n      }\n    },\n    {\n      \"column\": \"Cloudy\",\n      \"properties\": {\n        \"dtype\": \"boolean\",\n        \"num_unique_values\": 1,\n        \"samples\": [\n          false\n        ],\n        \"semantic_type\": \"\",\n        \"description\": \"\"\n      }\n    },\n    {\n      \"column\": \"Sprinkler\",\n      \"properties\": {\n        \"dtype\": \"boolean\",\n        \"num_unique_values\": 2,\n        \"samples\": [\n          false\n        ],\n        \"semantic_type\": \"\",\n        \"description\": \"\"\n      }\n    },\n    {\n      \"column\": \"Rain\",\n      \"properties\": {\n        \"dtype\": \"boolean\",\n        \"num_unique_values\": 2,\n        \"samples\": [\n          false\n        ],\n        \"semantic_type\": \"\",\n        \"description\": \"\"\n      }\n    },\n    {\n      \"column\": \"Wet_Grass\",\n      \"properties\": {\n        \"dtype\": \"boolean\",\n        \"num_unique_values\": 2,\n        \"samples\": [\n          true\n        ],\n        \"semantic_type\": \"\",\n        \"description\": \"\"\n      }\n    }\n  ]\n}"
            }
          },
          "metadata": {},
          "execution_count": 17
        }
      ]
    },
    {
      "cell_type": "code",
      "metadata": {
        "colab": {
          "base_uri": "https://localhost:8080/"
        },
        "id": "UQo3z4eZYBgD",
        "outputId": "41773adc-9ce7-46c3-b11e-0cbe90c3d2d0"
      },
      "source": [
        "# Import the library\n",
        "from pgmpy.factors.discrete import TabularCPD\n",
        "\n",
        "# Cloudy\n",
        "cpt_cloudy = TabularCPD(variable='Cloudy', variable_card=2, values=[[0.3], [0.7]])\n",
        "print(cpt_cloudy)"
      ],
      "execution_count": 4,
      "outputs": [
        {
          "output_type": "stream",
          "name": "stdout",
          "text": [
            "+-----------+-----+\n",
            "| Cloudy(0) | 0.3 |\n",
            "+-----------+-----+\n",
            "| Cloudy(1) | 0.7 |\n",
            "+-----------+-----+\n"
          ]
        }
      ]
    },
    {
      "cell_type": "code",
      "metadata": {
        "colab": {
          "base_uri": "https://localhost:8080/"
        },
        "id": "OeYdhUJFYQds",
        "outputId": "49240138-6d38-4f65-bde7-1b4291befa8d"
      },
      "source": [
        "cpt_rain = TabularCPD(variable='Rain', variable_card=2,\n",
        "                      values=[[0.8, 0.2],\n",
        "                              [0.2, 0.8]],\n",
        "                      evidence=['Cloudy'], evidence_card=[2])\n",
        "print(cpt_rain)"
      ],
      "execution_count": 5,
      "outputs": [
        {
          "output_type": "stream",
          "name": "stdout",
          "text": [
            "+---------+-----------+-----------+\n",
            "| Cloudy  | Cloudy(0) | Cloudy(1) |\n",
            "+---------+-----------+-----------+\n",
            "| Rain(0) | 0.8       | 0.2       |\n",
            "+---------+-----------+-----------+\n",
            "| Rain(1) | 0.2       | 0.8       |\n",
            "+---------+-----------+-----------+\n"
          ]
        }
      ]
    },
    {
      "cell_type": "code",
      "metadata": {
        "colab": {
          "base_uri": "https://localhost:8080/"
        },
        "id": "4TxSEJVsYQ2-",
        "outputId": "bb6ca54c-203d-4778-b670-c9210b848cf8"
      },
      "source": [
        "\n",
        "cpt_sprinkler = TabularCPD(variable='Sprinkler', variable_card=2,\n",
        "                           values=[[0.5, 0.9],\n",
        "                                   [0.5, 0.1]],\n",
        "                           evidence=['Cloudy'], evidence_card=[2])\n",
        "print(cpt_sprinkler)\n",
        "\n"
      ],
      "execution_count": 6,
      "outputs": [
        {
          "output_type": "stream",
          "name": "stdout",
          "text": [
            "+--------------+-----------+-----------+\n",
            "| Cloudy       | Cloudy(0) | Cloudy(1) |\n",
            "+--------------+-----------+-----------+\n",
            "| Sprinkler(0) | 0.5       | 0.9       |\n",
            "+--------------+-----------+-----------+\n",
            "| Sprinkler(1) | 0.5       | 0.1       |\n",
            "+--------------+-----------+-----------+\n"
          ]
        }
      ]
    },
    {
      "cell_type": "code",
      "metadata": {
        "colab": {
          "base_uri": "https://localhost:8080/"
        },
        "id": "rxaDhyZ4YRA1",
        "outputId": "eaee68b0-3640-468d-94f7-5ddfcdaf1cc5"
      },
      "source": [
        "cpt_wet_grass = TabularCPD(variable='Wet_Grass', variable_card=2,\n",
        "                           values=[[1, 0.1, 0.1, 0.01],\n",
        "                                   [0, 0.9, 0.9, 0.99]],\n",
        "                           evidence=['Sprinkler', 'Rain'],\n",
        "                           evidence_card=[2, 2])\n",
        "print(cpt_wet_grass)"
      ],
      "execution_count": 7,
      "outputs": [
        {
          "output_type": "stream",
          "name": "stdout",
          "text": [
            "+--------------+--------------+--------------+--------------+--------------+\n",
            "| Sprinkler    | Sprinkler(0) | Sprinkler(0) | Sprinkler(1) | Sprinkler(1) |\n",
            "+--------------+--------------+--------------+--------------+--------------+\n",
            "| Rain         | Rain(0)      | Rain(1)      | Rain(0)      | Rain(1)      |\n",
            "+--------------+--------------+--------------+--------------+--------------+\n",
            "| Wet_Grass(0) | 1.0          | 0.1          | 0.1          | 0.01         |\n",
            "+--------------+--------------+--------------+--------------+--------------+\n",
            "| Wet_Grass(1) | 0.0          | 0.9          | 0.9          | 0.99         |\n",
            "+--------------+--------------+--------------+--------------+--------------+\n"
          ]
        }
      ]
    },
    {
      "cell_type": "code",
      "metadata": {
        "colab": {
          "base_uri": "https://localhost:8080/"
        },
        "id": "SZpsfevTYRIJ",
        "outputId": "fff247a7-05f0-4d7e-dcb3-76a8455a32f3"
      },
      "source": [
        "# Update DAG with the CPTs\n",
        "model = bn.make_DAG(DAG, CPD=[cpt_cloudy, cpt_sprinkler, cpt_rain, cpt_wet_grass])\n",
        "\n",
        "# Print the CPTs\n",
        "bn.print_CPD(model)"
      ],
      "execution_count": 8,
      "outputs": [
        {
          "output_type": "stream",
          "name": "stdout",
          "text": [
            "[bnlearn] >Update current DAG with custom CPD.\n",
            "[bnlearn] >bayes DAG created.\n",
            "[bnlearn] >[CPD > Update  ] >[Node Cloudy]\n",
            "[bnlearn] >[CPD > Update  ] >[Node Sprinkler]\n",
            "[bnlearn] >[CPD > Update  ] >[Node Rain]\n",
            "[bnlearn] >[CPD > Update  ] >[Node Wet_Grass]\n",
            "[bnlearn] >[CPD > Validate] >[Node Cloudy] >OK\n",
            "[bnlearn] >[CPD > Validate] >[Node Sprinkler] >OK\n",
            "[bnlearn] >[CPD > Validate] >[Node Rain] >OK\n",
            "[bnlearn] >[CPD > Validate] >[Node Wet_Grass] >OK\n",
            "[bnlearn] >[CPD] >[Node Cloudy]:\n",
            "+-----------+-----+\n",
            "| Cloudy(0) | 0.3 |\n",
            "+-----------+-----+\n",
            "| Cloudy(1) | 0.7 |\n",
            "+-----------+-----+\n",
            "[bnlearn] >[CPD] >[Node Sprinkler]:\n",
            "+--------------+-----------+-----------+\n",
            "| Cloudy       | Cloudy(0) | Cloudy(1) |\n",
            "+--------------+-----------+-----------+\n",
            "| Sprinkler(0) | 0.5       | 0.9       |\n",
            "+--------------+-----------+-----------+\n",
            "| Sprinkler(1) | 0.5       | 0.1       |\n",
            "+--------------+-----------+-----------+\n",
            "[bnlearn] >[CPD] >[Node Rain]:\n",
            "+---------+-----------+-----------+\n",
            "| Cloudy  | Cloudy(0) | Cloudy(1) |\n",
            "+---------+-----------+-----------+\n",
            "| Rain(0) | 0.8       | 0.2       |\n",
            "+---------+-----------+-----------+\n",
            "| Rain(1) | 0.2       | 0.8       |\n",
            "+---------+-----------+-----------+\n",
            "[bnlearn] >[CPD] >[Node Wet_Grass]:\n",
            "+--------------+--------------+--------------+--------------+--------------+\n",
            "| Sprinkler    | Sprinkler(0) | Sprinkler(0) | Sprinkler(1) | Sprinkler(1) |\n",
            "+--------------+--------------+--------------+--------------+--------------+\n",
            "| Rain         | Rain(0)      | Rain(1)      | Rain(0)      | Rain(1)      |\n",
            "+--------------+--------------+--------------+--------------+--------------+\n",
            "| Wet_Grass(0) | 1.0          | 0.1          | 0.1          | 0.01         |\n",
            "+--------------+--------------+--------------+--------------+--------------+\n",
            "| Wet_Grass(1) | 0.0          | 0.9          | 0.9          | 0.99         |\n",
            "+--------------+--------------+--------------+--------------+--------------+\n",
            "[bnlearn] >Independencies:\n",
            "(Rain ⟂ Sprinkler | Cloudy)\n",
            "(Wet_Grass ⟂ Cloudy | Rain, Sprinkler)\n",
            "(Cloudy ⟂ Wet_Grass | Rain, Sprinkler)\n",
            "(Sprinkler ⟂ Rain | Cloudy)\n",
            "[bnlearn] >Nodes: ['Cloudy', 'Sprinkler', 'Rain', 'Wet_Grass']\n",
            "[bnlearn] >Edges: [('Cloudy', 'Sprinkler'), ('Cloudy', 'Rain'), ('Sprinkler', 'Wet_Grass'), ('Rain', 'Wet_Grass')]\n"
          ]
        },
        {
          "output_type": "execute_result",
          "data": {
            "text/plain": [
              "{'Cloudy':    Cloudy    p\n",
              " 0       0  0.3\n",
              " 1       1  0.7,\n",
              " 'Sprinkler':    Sprinkler  Cloudy    p\n",
              " 0          0       0  0.5\n",
              " 1          0       1  0.9\n",
              " 2          1       0  0.5\n",
              " 3          1       1  0.1,\n",
              " 'Rain':    Rain  Cloudy    p\n",
              " 0     0       0  0.8\n",
              " 1     0       1  0.2\n",
              " 2     1       0  0.2\n",
              " 3     1       1  0.8,\n",
              " 'Wet_Grass':    Wet_Grass  Sprinkler  Rain     p\n",
              " 0          0          0     0  1.00\n",
              " 1          0          0     1  0.10\n",
              " 2          0          1     0  0.10\n",
              " 3          0          1     1  0.01\n",
              " 4          1          0     0  0.00\n",
              " 5          1          0     1  0.90\n",
              " 6          1          1     0  0.90\n",
              " 7          1          1     1  0.99}"
            ]
          },
          "metadata": {},
          "execution_count": 8
        }
      ]
    },
    {
      "cell_type": "code",
      "metadata": {
        "colab": {
          "base_uri": "https://localhost:8080/"
        },
        "id": "5iuV_ZSgYR63",
        "outputId": "265cd036-bf83-4e79-acb5-f6bedb93d880"
      },
      "source": [
        "q1 = bn.inference.fit(model, variables=['Wet_Grass'], evidence={'Sprinkler':0})\n",
        "print(q1.df)"
      ],
      "execution_count": 9,
      "outputs": [
        {
          "output_type": "stream",
          "name": "stdout",
          "text": [
            "[bnlearn] >Variable Elimination.\n",
            "+----+-------------+----------+\n",
            "|    |   Wet_Grass |        p |\n",
            "+====+=============+==========+\n",
            "|  0 |           0 | 0.383846 |\n",
            "+----+-------------+----------+\n",
            "|  1 |           1 | 0.616154 |\n",
            "+----+-------------+----------+\n",
            "\n",
            "Summary for variables: ['Wet_Grass']\n",
            "Given evidence: Sprinkler=0\n",
            "\n",
            "Wet_Grass outcomes:\n",
            "- Wet_Grass: 0 (38.4%)\n",
            "- Wet_Grass: 1 (61.6%)\n",
            "   Wet_Grass         p\n",
            "0          0  0.383846\n",
            "1          1  0.616154\n"
          ]
        }
      ]
    },
    {
      "cell_type": "code",
      "metadata": {
        "colab": {
          "base_uri": "https://localhost:8080/"
        },
        "id": "rkwEc65Fc5iR",
        "outputId": "cc20854c-7d30-4c58-96d9-3327e09c0071"
      },
      "source": [
        "q2 = bn.inference.fit(model, variables=['Rain'], evidence={'Sprinkler':0, 'Cloudy':1})\n",
        "print(q2.df)"
      ],
      "execution_count": 10,
      "outputs": [
        {
          "output_type": "stream",
          "name": "stdout",
          "text": [
            "[bnlearn] >Variable Elimination.\n",
            "+----+--------+-----+\n",
            "|    |   Rain |   p |\n",
            "+====+========+=====+\n",
            "|  0 |      0 | 0.2 |\n",
            "+----+--------+-----+\n",
            "|  1 |      1 | 0.8 |\n",
            "+----+--------+-----+\n",
            "\n",
            "Summary for variables: ['Rain']\n",
            "Given evidence: Sprinkler=0, Cloudy=1\n",
            "\n",
            "Rain outcomes:\n",
            "- Rain: 0 (20.0%)\n",
            "- Rain: 1 (80.0%)\n",
            "   Rain    p\n",
            "0     0  0.2\n",
            "1     1  0.8\n"
          ]
        }
      ]
    },
    {
      "cell_type": "code",
      "metadata": {
        "colab": {
          "base_uri": "https://localhost:8080/"
        },
        "id": "TMYBSB-4c5uJ",
        "outputId": "8bb13a92-36ed-40c9-cbda-7a3b8cc81422"
      },
      "source": [
        "q3 = bn.inference.fit(model, variables=['Wet_Grass','Rain'], evidence={'Sprinkler':1})\n",
        "print(q3.df)"
      ],
      "execution_count": 11,
      "outputs": [
        {
          "output_type": "stream",
          "name": "stdout",
          "text": [
            "[bnlearn] >Variable Elimination.\n",
            "+----+-------------+--------+------------+\n",
            "|    |   Wet_Grass |   Rain |          p |\n",
            "+====+=============+========+============+\n",
            "|  0 |           0 |      0 | 0.0609091  |\n",
            "+----+-------------+--------+------------+\n",
            "|  1 |           0 |      1 | 0.00390909 |\n",
            "+----+-------------+--------+------------+\n",
            "|  2 |           1 |      0 | 0.548182   |\n",
            "+----+-------------+--------+------------+\n",
            "|  3 |           1 |      1 | 0.387      |\n",
            "+----+-------------+--------+------------+\n",
            "\n",
            "Summary for variables: ['Wet_Grass', 'Rain']\n",
            "Given evidence: Sprinkler=1\n",
            "\n",
            "Wet_Grass outcomes:\n",
            "- Wet_Grass: 0 (6.5%)\n",
            "- Wet_Grass: 1 (93.5%)\n",
            "\n",
            "Rain outcomes:\n",
            "- Rain: 0 (60.9%)\n",
            "- Rain: 1 (39.1%)\n",
            "   Wet_Grass  Rain         p\n",
            "0          0     0  0.060909\n",
            "1          0     1  0.003909\n",
            "2          1     0  0.548182\n",
            "3          1     1  0.387000\n"
          ]
        }
      ]
    },
    {
      "cell_type": "markdown",
      "source": [
        "\n",
        "---\n",
        "\n",
        "### Support\n",
        "This library is for free but it runs on coffee! :)\n",
        "\n",
        "You can [support](https://erdogant.github.io/pca/pages/html/Documentation.html) in various ways, have a look at the [sponser page](https://erdogant.github.io/bnlearn/pages/html/Documentation.html). Report bugs, issues and feature extensions at [github page](https://github.com/erdogant/bnlearn).\n",
        "\n",
        "<table>\n",
        "  <tr>\n",
        "    <td style=\"text-align: center;\">\n",
        "      <a href=\"https://www.buymeacoffee.com/erdogant\">\n",
        "        <img src=\"https://img.buymeacoffee.com/button-api/?text=Buy me a coffee&emoji=&slug=erdogant&button_colour=FFDD00&font_colour=000000&font_family=Cookie&outline_colour=000000&coffee_colour=ffffff\" />\n",
        "      </a>\n",
        "    </td>\n",
        "    <td style=\"text-align: center;\">\n",
        "      <a href=\"https://erdogant.medium.com/subscribe\" target=\"_blank\">\n",
        "        <img height=\"50\" style=\"border:0px;height:36px;\" src=\"https://erdogant.github.io/images/medium_follow_me.jpg\" border=\"0\" alt=\"Follow me on Medium\" />\n",
        "      </a>\n",
        "    </td>\n",
        "  </tr>\n",
        "</table>"
      ],
      "metadata": {
        "id": "H5Xk48WS4ldh"
      }
    }
  ]
}