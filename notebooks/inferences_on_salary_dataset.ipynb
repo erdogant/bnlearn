{
  "nbformat": 4,
  "nbformat_minor": 0,
  "metadata": {
    "colab": {
      "provenance": []
    },
    "kernelspec": {
      "name": "python3",
      "display_name": "Python 3"
    },
    "language_info": {
      "name": "python"
    }
  },
  "cells": [
    {
      "cell_type": "markdown",
      "source": [
        "<!-- Centered logo -->\n",
        "<p align=\"center\">\n",
        "  <img src=\"https://github.com/erdogant/bnlearn/blob/master/docs/figs/logo.png?raw=true\" width=\"300\" />\n",
        "</p>\n",
        "\n",
        "<!-- Badges row (centered) -->\n",
        "<p align=\"center\">\n",
        "  <a href=\"https://img.shields.io/pypi/pyversions/bnlearn\"><img src=\"https://img.shields.io/pypi/pyversions/bnlearn\" /></a>\n",
        "  <a href=\"https://pypi.org/project/bnlearn/\"><img src=\"https://img.shields.io/pypi/v/bnlearn\" /></a>\n",
        "  <img src=\"https://img.shields.io/github/stars/erdogant/bnlearn\" />\n",
        "  <a href=\"https://github.com/erdogant/bnlearn/blob/master/LICENSE\"><img src=\"https://img.shields.io/badge/license-MIT-green.svg\" /></a>\n",
        "  <a href=\"https://github.com/erdogant/bnlearn/network\"><img src=\"https://img.shields.io/github/forks/erdogant/bnlearn.svg\" /></a>\n",
        "  <a href=\"https://github.com/erdogant/bnlearn/issues\"><img src=\"https://img.shields.io/github/issues/erdogant/bnlearn.svg\" /></a>\n",
        "  <a href=\"http://www.repostatus.org/#active\"><img src=\"http://www.repostatus.org/badges/latest/active.svg\" /></a>\n",
        "  <a href=\"https://pepy.tech/project/bnlearn/\"><img src=\"https://pepy.tech/badge/bnlearn/month\" /></a>\n",
        "  <a href=\"https://pepy.tech/project/bnlearn/\"><img src=\"https://pepy.tech/badge/bnlearn\" /></a>\n",
        "  <a href=\"https://zenodo.org/badge/latestdoi/231263493\"><img src=\"https://zenodo.org/badge/231263493.svg\" /></a>\n",
        "  <a href=\"https://erdogant.github.io/bnlearn/\"><img src=\"https://img.shields.io/badge/Sphinx-Docs-Green\" /></a>\n",
        "  <a href=\"https://erdogant.github.io/bnlearn/pages/html/Documentation.html#medium-blog\"><img src=\"https://img.shields.io/badge/Medium-Blog-black\" /></a>\n",
        "  <img src=\"https://img.shields.io/github/repo-size/erdogant/bnlearn\" />\n",
        "  <a href=\"https://erdogant.github.io/bnlearn/pages/html/Documentation.html#\"><img src=\"https://img.shields.io/badge/Support%20this%20project-grey.svg?logo=github%20sponsors\" /></a>\n",
        "  <a href=\"https://erdogant.github.io/bnlearn/pages/html/Documentation.html#colab-notebook\"><img src=\"https://colab.research.google.com/assets/colab-badge.svg\" /></a>\n",
        "</p>\n",
        "\n",
        "---\n",
        "\n",
        "# Bnlearn for Python\n",
        "\n",
        "Welcome to the notebook of **bnlearn**. bnlearn is Python package for learning the graphical structure of Bayesian networks, parameter learning, inference and sampling methods. Because probabilistic graphical models can be difficult in usage, Bnlearn for python (this package) is build on the pgmpy package and contains the most-wanted pipelines. Navigate to API documentations for more detailed information.\n",
        "\n",
        "The core functionalities are:\n",
        "<br>\n",
        "<b>* Causal Discovery</b>\n",
        "<br>\n",
        "<b>* Structure Learning</b>\n",
        "<br>\n",
        "<b>* Parameter Learning</b>\n",
        "<br>\n",
        "<b>* Inferences using do-calculus</b>\n",
        "<br>\n",
        "<br>\n",
        "\n",
        "---\n",
        "\n",
        "### Find details in the Medium blogs.\n",
        "\n",
        "\n",
        "<style>\n",
        ".card-container {\n",
        "  display: flex;\n",
        "  flex-wrap: wrap;\n",
        "  gap: 16px;\n",
        "  justify-content: center;\n",
        "  margin-top: 20px;\n",
        "}\n",
        "\n",
        ".card {\n",
        "  flex: 1 1 300px;\n",
        "  max-width: 300px;\n",
        "  background: #f9f9f9;\n",
        "  border: 1px solid #ddd;\n",
        "  border-radius: 12px;\n",
        "  padding: 16px;\n",
        "  box-shadow: 2px 2px 10px rgba(0,0,0,0.05);\n",
        "  transition: 0.3s;\n",
        "}\n",
        "\n",
        ".card:hover {\n",
        "  transform: scale(1.02);\n",
        "  box-shadow: 4px 4px 20px rgba(0,0,0,0.1);\n",
        "}\n",
        "\n",
        ".card a {\n",
        "  text-decoration: none;\n",
        "  font-weight: bold;\n",
        "  color: #333;\n",
        "  font-size: 16px;\n",
        "}\n",
        "\n",
        ".card a:hover {\n",
        "  color: #1e90ff;\n",
        "}\n",
        "</style>\n",
        "\n",
        "<div class=\"card-container\">\n",
        "  <div class=\"card\">\n",
        "    <a href=\"https://medium.com/data-science-collective/the-starters-guide-to-causal-structure-learning-with-bayesian-methods-in-python-e3b90f49c99c\" target=\"_blank\">\n",
        "      1. The Starters Guide to Causal Structure Learning with Bayesian Methods in Python.\n",
        "    </a>\n",
        "  </div>\n",
        "  <div class=\"card\">\n",
        "    <a href=\"https://medium.com/data-science-collective/why-prediction-isnt-enough-using-bayesian-models-to-change-the-outcome-5c9cf9f65a75\" target=\"_blank\">\n",
        "      2. Why Prediction Isn’t Enough: Using Bayesian Models to Change the Outcome.\n",
        "    </a>\n",
        "  </div>\n",
        "  <div class=\"card\">\n",
        "    <a href=\"https://medium.com/data-science-collective/synthetic-data-the-essentials-of-data-generation-using-bayesian-sampling-6d072e97e09d\" target=\"_blank\">\n",
        "      3. Synthetic Data: The Essentials Of Data Generation Using Bayesian Sampling.\n",
        "    </a>\n",
        "  </div>\n",
        "</div>\n",
        "\n",
        "\n",
        "\n",
        "---\n",
        "\n",
        "### Support\n",
        "This library is for <b>free</b> but it runs on coffee! :)\n",
        "\n",
        "You can [support](https://erdogant.github.io/pca/pages/html/Documentation.html) in various ways, have a look at the [sponser page](https://erdogant.github.io/bnlearn/pages/html/Documentation.html). Report bugs, issues and feature extensions at [github page](https://github.com/erdogant/bnlearn).\n",
        "\n",
        "<table>\n",
        "  <tr>\n",
        "    <td style=\"text-align: center;\">\n",
        "      <a href=\"https://www.buymeacoffee.com/erdogant\">\n",
        "        <img src=\"https://img.buymeacoffee.com/button-api/?text=Buy me a coffee&emoji=&slug=erdogant&button_colour=FFDD00&font_colour=000000&font_family=Cookie&outline_colour=000000&coffee_colour=ffffff\" />\n",
        "      </a>\n",
        "    </td>\n",
        "    <td style=\"text-align: center;\">\n",
        "      <a href=\"https://erdogant.medium.com/subscribe\" target=\"_blank\">\n",
        "        <img height=\"50\" style=\"border:0px;height:36px;\" src=\"https://erdogant.github.io/images/medium_follow_me.jpg\" border=\"0\" alt=\"Follow me on Medium\" />\n",
        "      </a>\n",
        "    </td>\n",
        "  </tr>\n",
        "</table>\n",
        "\n",
        "---\n"
      ],
      "metadata": {
        "id": "DR18UN_7Xrgb"
      }
    },
    {
      "cell_type": "code",
      "source": [
        "# Install packages\n",
        "!pip install bnlearn\n",
        "!pip install datazets"
      ],
      "metadata": {
        "id": "9ouh94m0ZUu6"
      },
      "execution_count": null,
      "outputs": []
    },
    {
      "cell_type": "code",
      "source": [
        "# Import libraries\n",
        "import bnlearn as bn\n",
        "import datazets as dz\n",
        "import numpy as np"
      ],
      "metadata": {
        "id": "IiyyxgJ5Yr1g"
      },
      "execution_count": 2,
      "outputs": []
    },
    {
      "cell_type": "code",
      "source": [
        "# Get the data science salary data set\n",
        "df = dz.get('ds_salaries')"
      ],
      "metadata": {
        "colab": {
          "base_uri": "https://localhost:8080/"
        },
        "id": "JnSoV-_2ZbwF",
        "outputId": "225797d3-455f-47c9-d590-7dbfe5cec582"
      },
      "execution_count": 3,
      "outputs": [
        {
          "output_type": "stream",
          "name": "stderr",
          "text": [
            "[20-09-2025 19:00:46] [datazets.datazets] [INFO] Import dataset [ds_salaries]\n",
            "[20-09-2025 19:00:46] [datazets.datazets] [INFO] Downloading [ds_salaries.zip] dataset from github source..\n"
          ]
        }
      ]
    },
    {
      "cell_type": "markdown",
      "source": [
        "## Pre-processing steps\n",
        "\n",
        "#### **Complexity is a major limitation**\n",
        "\n",
        "When features contain many categories, the number of probability distributions required to populate a conditional probability table (CPT) in a Bayesian network, grows exponentially with the number of parent nodes associated with that table. Or in other words, when you increase the number of categories, it requires a lot more data to gain reliable results. Intuitively it is as follows; when you hierarchically split the data into categories, the number of samples within a single category will become smaller after each split. The low number of samples  per category directly affects the statistical power. In our example, we have a feature job_title that contains 99 unique titles for which only 14 job titles contain more than 25 samples. To make sure this feature is not removed and can be used in a reliable manner, we need to aggregate some of the job titles. In the code section below we will aggregate job titles into 7 main categories. This results in a good proportion of samples per category for modeling."
      ],
      "metadata": {
        "id": "jLi9P8XXZ2uz"
      }
    },
    {
      "cell_type": "code",
      "source": [
        "# Create new feature: Country\n",
        "df['country'] = 'USA'\n",
        "countries_europe = ['SM', 'DE', 'GB', 'ES', 'FR', 'RU', 'IT', 'NL', 'CH', 'CF', 'FI', 'UA', 'IE', 'GR', 'MK', 'RO', 'AL', 'LT', 'BA', 'LV', 'EE', 'AM', 'HR', 'SI', 'PT', 'HU', 'AT', 'SK', 'CZ', 'DK', 'BE', 'MD', 'MT']\n",
        "df['country'][np.isin(df['company_location'], countries_europe)]='europe'"
      ],
      "metadata": {
        "id": "5XviBtmdZeNN"
      },
      "execution_count": 4,
      "outputs": []
    },
    {
      "cell_type": "code",
      "source": [
        "# Rename catagorical variables for better understanding\n",
        "df['experience_level'] = df['experience_level'].replace({'EN': 'Entry-level', 'MI': 'Junior Mid-level', 'SE': 'Intermediate Senior-level', 'EX': 'Expert Executive-level / Director'}, regex=True)\n",
        "df['employment_type'] = df['employment_type'].replace({'PT': 'Part-time', 'FT': 'Full-time', 'CT': 'Contract', 'FL': 'Freelance'}, regex=True)\n",
        "df['company_size'] = df['company_size'].replace({'S': 'Small (less than 50)', 'M': 'Medium (50 to 250)', 'L': 'Large (>250)'}, regex=True)\n",
        "df['remote_ratio'] = df['remote_ratio'].replace({0: 'No remote', 50: 'Partially remote', 100: '>80% remote'}, regex=True)"
      ],
      "metadata": {
        "id": "4KQfyWATZlHw"
      },
      "execution_count": 5,
      "outputs": []
    },
    {
      "cell_type": "code",
      "source": [
        "# Group similar job titles\n",
        "titles = [['data scientist', 'data science', 'research', 'applied', 'specialist', 'ai', 'machine learning'],\n",
        "          ['engineer', 'etl'],\n",
        "          ['analyst', 'bi', 'business', 'product', 'modeler', 'analytics'],\n",
        "          ['manager', 'head', 'director'],\n",
        "          ['architect', 'cloud', 'aws'],\n",
        "          ['lead/principal', 'lead', 'principal'],\n",
        "          ]\n",
        "\n",
        "job_title = df['job_title'].str.lower().copy()\n",
        "df['job_title'] = 'Other'\n",
        "for t in titles:\n",
        "    for name in t:\n",
        "        df['job_title'][list(map(lambda x: name in x, job_title))]=t[0]\n",
        "\n",
        "# engineer          1654\n",
        "# data scientist    1238\n",
        "# analyst            902\n",
        "# manager            158\n",
        "# architect          118\n",
        "# lead/principal      55\n",
        "# Other                9\n",
        "# Name: job_title, dtype: int64"
      ],
      "metadata": {
        "id": "Z-8u9BdxZzzv"
      },
      "execution_count": 6,
      "outputs": []
    },
    {
      "cell_type": "markdown",
      "source": [
        "# Discretize the continous variable salary\n",
        "\n",
        "\n",
        "We also need to discretize salary_in_usd which can be done manually or using the discretizer function in bnlearn. For demonstration purposes, let's do both. For the latter case, we assume that salary depends on experience_level and on the country. Based on these input variables, the salary is then partitioned into bins (see code section below).\n"
      ],
      "metadata": {
        "id": "tP7kTdCkZ9kx"
      }
    },
    {
      "cell_type": "code",
      "source": [
        "discretize_method='manual'\n",
        "\n",
        "if discretize_method=='manual':\n",
        "    salary_in_usd = df['salary_in_usd']\n",
        "    # Remove redundant variables\n",
        "    df.drop(labels=['salary_currency', 'salary', 'salary_in_usd'], inplace=True, axis=1)\n",
        "    # Set salary\n",
        "    df['salary_in_usd'] = None\n",
        "    df['salary_in_usd'].loc[salary_in_usd<60000]='<60K'\n",
        "    df['salary_in_usd'].loc[np.logical_and(salary_in_usd>=60000, salary_in_usd<100000)]='60-100K'\n",
        "    df['salary_in_usd'].loc[np.logical_and(salary_in_usd>=100000, salary_in_usd<160000)]='100-160K'\n",
        "    df['salary_in_usd'].loc[np.logical_and(salary_in_usd>=160000, salary_in_usd<250000)]='160-250K'\n",
        "    df['salary_in_usd'].loc[salary_in_usd>=250000]='>250K'\n",
        "else:\n",
        "    # Discritize salary\n",
        "    tmpdf = df[['experience_level', 'salary_in_usd', 'country']]\n",
        "    # Create edges\n",
        "    edges = [('experience_level', 'salary_in_usd'), ('country', 'salary_in_usd')]\n",
        "    # Create DAG based on edges\n",
        "    DAG = bn.make_DAG(edges)\n",
        "    bn.plot(DAG)\n",
        "    # Discretize the continous columns\n",
        "    df_disc = bn.discretize(tmpdf, edges, [\"salary_in_usd\"], max_iterations=1)\n",
        "    df['salary_in_usd'] = df_disc['salary_in_usd']\n",
        "    df['salary_in_usd'].value_counts()\n",
        "    # Remove redundant variables\n",
        "    df.drop(labels=['salary_currency', 'salary'], inplace=True, axis=1)"
      ],
      "metadata": {
        "id": "rs7bi1bEZ06e"
      },
      "execution_count": 7,
      "outputs": []
    },
    {
      "cell_type": "markdown",
      "source": [
        "# Learn the causal DAG from the data.\n",
        "\n",
        "At this point, we have pre-processed the data set and are ready to learn the causal structure. There are six algorithms implemented in bnlearn that can help for this task:\n",
        "\n",
        "    'hc' or 'hillclimbsearch' (default)\n",
        "    'ex' or 'exhaustivesearch'\n",
        "    'cs' or 'constraintsearch'\n",
        "    'cl' or 'chow-liu' (requires setting root_node parameter)\n",
        "    'nb' or 'naivebayes' (requires <root_node>)\n",
        "    'tan' (requires <root_node> and <class_node> parameter)\n"
      ],
      "metadata": {
        "id": "3EhcvwFZdD9O"
      }
    },
    {
      "cell_type": "code",
      "source": [
        "# %% Learn the causal DAG from the data\n",
        "\n",
        "# Structure learning\n",
        "model = bn.structure_learning.fit(df, methodtype='hc', scoretype='bic')\n"
      ],
      "metadata": {
        "colab": {
          "base_uri": "https://localhost:8080/"
        },
        "id": "cbBSkK6raKsD",
        "outputId": "46bb65c9-bb7c-4e0b-9681-ec650aa7b574"
      },
      "execution_count": 8,
      "outputs": [
        {
          "output_type": "stream",
          "name": "stdout",
          "text": [
            "[bnlearn] >Computing best DAG using [hc]\n",
            "[bnlearn] >Set scoring type at [bic]\n",
            "[bnlearn] >Compute structure scores for model comparison (higher is better).\n"
          ]
        }
      ]
    },
    {
      "cell_type": "code",
      "source": [
        "# independence test\n",
        "model = bn.independence_test(model, df, prune=False)\n"
      ],
      "metadata": {
        "colab": {
          "base_uri": "https://localhost:8080/"
        },
        "id": "4GkZTeVfdhyR",
        "outputId": "d74a15a8-f8dc-4cc2-ac7e-3a120e097a15"
      },
      "execution_count": 9,
      "outputs": [
        {
          "output_type": "stream",
          "name": "stdout",
          "text": [
            "[bnlearn] >Compute edge strength with [chi_square]\n"
          ]
        }
      ]
    },
    {
      "cell_type": "code",
      "source": [
        "# Check best scoring type\n",
        "best_scoretype = min(model['structure_scores'], key=lambda k: model['structure_scores'][k])\n",
        "print(best_scoretype)"
      ],
      "metadata": {
        "colab": {
          "base_uri": "https://localhost:8080/"
        },
        "id": "S5EgiZxHdizN",
        "outputId": "17a0282c-6035-4ed2-e975-12ff9491013a"
      },
      "execution_count": 10,
      "outputs": [
        {
          "output_type": "stream",
          "name": "stdout",
          "text": [
            "bic\n"
          ]
        }
      ]
    },
    {
      "cell_type": "code",
      "source": [
        "# Parameter learning\n",
        "model = bn.parameter_learning.fit(model, df, methodtype=\"bayes\")\n"
      ],
      "metadata": {
        "colab": {
          "base_uri": "https://localhost:8080/"
        },
        "id": "Qb3s40dddl2l",
        "outputId": "8dc5db75-fbef-4428-873a-0b98cec5bedb"
      },
      "execution_count": 11,
      "outputs": [
        {
          "output_type": "stream",
          "name": "stdout",
          "text": [
            "[bnlearn] >Parameter learning> Computing parameters using [bayes]\n",
            "[bnlearn] >Converting [<class 'pgmpy.base.DAG.DAG'>] to BayesianNetwork model.\n",
            "[bnlearn] >Converting adjmat to BayesianNetwork.\n",
            "[bnlearn] >CPD of work_year:\n",
            "+-----------------+-----+----------------------+\n",
            "| salary_in_usd   | ... | salary_in_usd(>250K) |\n",
            "+-----------------+-----+----------------------+\n",
            "| work_year(2020) | ... | 0.13033175355450238  |\n",
            "+-----------------+-----+----------------------+\n",
            "| work_year(2021) | ... | 0.13507109004739337  |\n",
            "+-----------------+-----+----------------------+\n",
            "| work_year(2022) | ... | 0.22274881516587677  |\n",
            "+-----------------+-----+----------------------+\n",
            "| work_year(2023) | ... | 0.5118483412322274   |\n",
            "+-----------------+-----+----------------------+\n",
            "[bnlearn] >CPD of remote_ratio:\n",
            "+--------------------------------+-----+\n",
            "| company_size                   | ... |\n",
            "+--------------------------------+-----+\n",
            "| work_year                      | ... |\n",
            "+--------------------------------+-----+\n",
            "| remote_ratio(>80% remote)      | ... |\n",
            "+--------------------------------+-----+\n",
            "| remote_ratio(No remote)        | ... |\n",
            "+--------------------------------+-----+\n",
            "| remote_ratio(Partially remote) | ... |\n",
            "+--------------------------------+-----+\n",
            "[bnlearn] >CPD of company_size:\n",
            "+-----+---------------------+\n",
            "| ... | work_year(2023)     |\n",
            "+-----+---------------------+\n",
            "| ... | 0.08527131782945734 |\n",
            "+-----+---------------------+\n",
            "| ... | 0.8701550387596898  |\n",
            "+-----+---------------------+\n",
            "| ... | 0.0445736434108527  |\n",
            "+-----+---------------------+\n",
            "[bnlearn] >CPD of employment_type:\n",
            "+----------------------------+-----+--------------------------------+\n",
            "| remote_ratio               | ... | remote_ratio(Partially remote) |\n",
            "+----------------------------+-----+--------------------------------+\n",
            "| employment_type(Contract)  | ... | 0.1606022584692597             |\n",
            "+----------------------------+-----+--------------------------------+\n",
            "| employment_type(Freelance) | ... | 0.164366373902133              |\n",
            "+----------------------------+-----+--------------------------------+\n",
            "| employment_type(Full-time) | ... | 0.5031367628607276             |\n",
            "+----------------------------+-----+--------------------------------+\n",
            "| employment_type(Part-time) | ... | 0.17189460476787952            |\n",
            "+----------------------------+-----+--------------------------------+\n",
            "[bnlearn] >CPD of company_location:\n",
            "+----------------------+------------+\n",
            "| company_location(AE) | 0.00341128 |\n",
            "+----------------------+------------+\n",
            "| company_location(AL) | 0.00282694 |\n",
            "+----------------------+------------+\n",
            "| company_location(AM) | 0.00282694 |\n",
            "+----------------------+------------+\n",
            "| company_location(AR) | 0.00360606 |\n",
            "+----------------------+------------+\n",
            "| company_location(AS) | 0.0032165  |\n",
            "+----------------------+------------+\n",
            "| company_location(AT) | 0.00380084 |\n",
            "+----------------------+------------+\n",
            "| company_location(AU) | 0.00574864 |\n",
            "+----------------------+------------+\n",
            "| company_location(BA) | 0.00282694 |\n",
            "+----------------------+------------+\n",
            "| company_location(BE) | 0.00341128 |\n",
            "+----------------------+------------+\n",
            "| company_location(BO) | 0.00282694 |\n",
            "+----------------------+------------+\n",
            "| company_location(BR) | 0.00555386 |\n",
            "+----------------------+------------+\n",
            "| company_location(BS) | 0.00282694 |\n",
            "+----------------------+------------+\n",
            "| company_location(CA) | 0.021331   |\n",
            "+----------------------+------------+\n",
            "| company_location(CF) | 0.00302172 |\n",
            "+----------------------+------------+\n",
            "| company_location(CH) | 0.00360606 |\n",
            "+----------------------+------------+\n",
            "| company_location(CL) | 0.00282694 |\n",
            "+----------------------+------------+\n",
            "| company_location(CN) | 0.00282694 |\n",
            "+----------------------+------------+\n",
            "| company_location(CO) | 0.0041904  |\n",
            "+----------------------+------------+\n",
            "| company_location(CR) | 0.00282694 |\n",
            "+----------------------+------------+\n",
            "| company_location(CZ) | 0.0032165  |\n",
            "+----------------------+------------+\n",
            "| company_location(DE) | 0.0141242  |\n",
            "+----------------------+------------+\n",
            "| company_location(DK) | 0.00341128 |\n",
            "+----------------------+------------+\n",
            "| company_location(DZ) | 0.00282694 |\n",
            "+----------------------+------------+\n",
            "| company_location(EE) | 0.00302172 |\n",
            "+----------------------+------------+\n",
            "| company_location(EG) | 0.00282694 |\n",
            "+----------------------+------------+\n",
            "| company_location(ES) | 0.0187989  |\n",
            "+----------------------+------------+\n",
            "| company_location(FI) | 0.0032165  |\n",
            "+----------------------+------------+\n",
            "| company_location(FR) | 0.00964424 |\n",
            "+----------------------+------------+\n",
            "| company_location(GB) | 0.042562   |\n",
            "+----------------------+------------+\n",
            "| company_location(GH) | 0.00302172 |\n",
            "+----------------------+------------+\n",
            "| company_location(GR) | 0.00535908 |\n",
            "+----------------------+------------+\n",
            "| company_location(HK) | 0.00282694 |\n",
            "+----------------------+------------+\n",
            "| company_location(HN) | 0.00282694 |\n",
            "+----------------------+------------+\n",
            "| company_location(HR) | 0.0032165  |\n",
            "+----------------------+------------+\n",
            "| company_location(HU) | 0.00302172 |\n",
            "+----------------------+------------+\n",
            "| company_location(ID) | 0.00302172 |\n",
            "+----------------------+------------+\n",
            "| company_location(IE) | 0.00399562 |\n",
            "+----------------------+------------+\n",
            "| company_location(IL) | 0.00302172 |\n",
            "+----------------------+------------+\n",
            "| company_location(IN) | 0.0139294  |\n",
            "+----------------------+------------+\n",
            "| company_location(IQ) | 0.00282694 |\n",
            "+----------------------+------------+\n",
            "| company_location(IR) | 0.00282694 |\n",
            "+----------------------+------------+\n",
            "| company_location(IT) | 0.00380084 |\n",
            "+----------------------+------------+\n",
            "| company_location(JP) | 0.0041904  |\n",
            "+----------------------+------------+\n",
            "| company_location(KE) | 0.00302172 |\n",
            "+----------------------+------------+\n",
            "| company_location(LT) | 0.00302172 |\n",
            "+----------------------+------------+\n",
            "| company_location(LU) | 0.0032165  |\n",
            "+----------------------+------------+\n",
            "| company_location(LV) | 0.00341128 |\n",
            "+----------------------+------------+\n",
            "| company_location(MA) | 0.00282694 |\n",
            "+----------------------+------------+\n",
            "| company_location(MD) | 0.00282694 |\n",
            "+----------------------+------------+\n",
            "| company_location(MK) | 0.00282694 |\n",
            "+----------------------+------------+\n",
            "| company_location(MT) | 0.00282694 |\n",
            "+----------------------+------------+\n",
            "| company_location(MX) | 0.00457996 |\n",
            "+----------------------+------------+\n",
            "| company_location(MY) | 0.00282694 |\n",
            "+----------------------+------------+\n",
            "| company_location(NG) | 0.0041904  |\n",
            "+----------------------+------------+\n",
            "| company_location(NL) | 0.0051643  |\n",
            "+----------------------+------------+\n",
            "| company_location(NZ) | 0.00282694 |\n",
            "+----------------------+------------+\n",
            "| company_location(PH) | 0.00302172 |\n",
            "+----------------------+------------+\n",
            "| company_location(PK) | 0.00341128 |\n",
            "+----------------------+------------+\n",
            "| company_location(PL) | 0.00360606 |\n",
            "+----------------------+------------+\n",
            "| company_location(PR) | 0.00341128 |\n",
            "+----------------------+------------+\n",
            "| company_location(PT) | 0.00535908 |\n",
            "+----------------------+------------+\n",
            "| company_location(RO) | 0.00302172 |\n",
            "+----------------------+------------+\n",
            "| company_location(RU) | 0.00341128 |\n",
            "+----------------------+------------+\n",
            "| company_location(SE) | 0.00302172 |\n",
            "+----------------------+------------+\n",
            "| company_location(SG) | 0.00380084 |\n",
            "+----------------------+------------+\n",
            "| company_location(SI) | 0.00341128 |\n",
            "+----------------------+------------+\n",
            "| company_location(SK) | 0.00282694 |\n",
            "+----------------------+------------+\n",
            "| company_location(SM) | 0.00282694 |\n",
            "+----------------------+------------+\n",
            "| company_location(TH) | 0.0032165  |\n",
            "+----------------------+------------+\n",
            "| company_location(TR) | 0.00360606 |\n",
            "+----------------------+------------+\n",
            "| company_location(UA) | 0.00341128 |\n",
            "+----------------------+------------+\n",
            "| company_location(US) | 0.654366   |\n",
            "+----------------------+------------+\n",
            "| company_location(VN) | 0.00282694 |\n",
            "+----------------------+------------+\n",
            "| company_location(ZA) | 0.00282694 |\n",
            "+----------------------+------------+\n",
            "[bnlearn] >CPD of country:\n",
            "+------------------+-----+----------------------+\n",
            "| company_location | ... | company_location(ZA) |\n",
            "+------------------+-----+----------------------+\n",
            "| country(USA)     | ... | 0.5344506517690876   |\n",
            "+------------------+-----+----------------------+\n",
            "| country(europe)  | ... | 0.4655493482309125   |\n",
            "+------------------+-----+----------------------+\n",
            "[bnlearn] >CPD of employee_residence:\n",
            "+------------------------+-----------------------+----------------------+\n",
            "| country                | country(USA)          | country(europe)      |\n",
            "+------------------------+-----------------------+----------------------+\n",
            "| employee_residence(AE) | 0.002478839177750907  | 0.006256256256256257 |\n",
            "+------------------------+-----------------------+----------------------+\n",
            "| employee_residence(AM) | 0.0015114873035066505 | 0.007257257257257258 |\n",
            "+------------------------+-----------------------+----------------------+\n",
            "| employee_residence(AR) | 0.0036880290205562275 | 0.006256256256256257 |\n",
            "+------------------------+-----------------------+----------------------+\n",
            "| employee_residence(AS) | 0.0019951632406287785 | 0.006256256256256257 |\n",
            "+------------------------+-----------------------+----------------------+\n",
            "| employee_residence(AT) | 0.0015114873035066505 | 0.012262262262262262 |\n",
            "+------------------------+-----------------------+----------------------+\n",
            "| employee_residence(AU) | 0.00441354292623942   | 0.007257257257257258 |\n",
            "+------------------------+-----------------------+----------------------+\n",
            "| employee_residence(BA) | 0.0015114873035066505 | 0.007257257257257258 |\n",
            "+------------------------+-----------------------+----------------------+\n",
            "| employee_residence(BE) | 0.0017533252720677147 | 0.01026026026026026  |\n",
            "+------------------------+-----------------------+----------------------+\n",
            "| employee_residence(BG) | 0.0017533252720677147 | 0.006256256256256257 |\n",
            "+------------------------+-----------------------+----------------------+\n",
            "| employee_residence(BO) | 0.0022370012091898427 | 0.007257257257257258 |\n",
            "+------------------------+-----------------------+----------------------+\n",
            "| employee_residence(BR) | 0.005864570737605804  | 0.006256256256256257 |\n",
            "+------------------------+-----------------------+----------------------+\n",
            "| employee_residence(CA) | 0.02400241837968561   | 0.007257257257257258 |\n",
            "+------------------------+-----------------------+----------------------+\n",
            "| employee_residence(CF) | 0.0015114873035066505 | 0.008258258258258258 |\n",
            "+------------------------+-----------------------+----------------------+\n",
            "| employee_residence(CH) | 0.0015114873035066505 | 0.01026026026026026  |\n",
            "+------------------------+-----------------------+----------------------+\n",
            "| employee_residence(CL) | 0.0019951632406287785 | 0.006256256256256257 |\n",
            "+------------------------+-----------------------+----------------------+\n",
            "| employee_residence(CN) | 0.0017533252720677147 | 0.006256256256256257 |\n",
            "+------------------------+-----------------------+----------------------+\n",
            "| employee_residence(CO) | 0.0034461910519951633 | 0.006256256256256257 |\n",
            "+------------------------+-----------------------+----------------------+\n",
            "| employee_residence(CR) | 0.0017533252720677147 | 0.006256256256256257 |\n",
            "+------------------------+-----------------------+----------------------+\n",
            "| employee_residence(CY) | 0.0015114873035066505 | 0.007257257257257258 |\n",
            "+------------------------+-----------------------+----------------------+\n",
            "| employee_residence(CZ) | 0.0015114873035066505 | 0.008258258258258258 |\n",
            "+------------------------+-----------------------+----------------------+\n",
            "| employee_residence(DE) | 0.0019951632406287785 | 0.05630630630630631  |\n",
            "+------------------------+-----------------------+----------------------+\n",
            "| employee_residence(DK) | 0.0015114873035066505 | 0.009259259259259259 |\n",
            "+------------------------+-----------------------+----------------------+\n",
            "| employee_residence(DO) | 0.0015114873035066505 | 0.007257257257257258 |\n",
            "+------------------------+-----------------------+----------------------+\n",
            "| employee_residence(DZ) | 0.0017533252720677147 | 0.006256256256256257 |\n",
            "+------------------------+-----------------------+----------------------+\n",
            "| employee_residence(EE) | 0.0015114873035066505 | 0.007257257257257258 |\n",
            "+------------------------+-----------------------+----------------------+\n",
            "| employee_residence(EG) | 0.0019951632406287785 | 0.006256256256256257 |\n",
            "+------------------------+-----------------------+----------------------+\n",
            "| employee_residence(ES) | 0.0022370012091898427 | 0.08933933933933934  |\n",
            "+------------------------+-----------------------+----------------------+\n",
            "| employee_residence(FI) | 0.0015114873035066505 | 0.008258258258258258 |\n",
            "+------------------------+-----------------------+----------------------+\n",
            "| employee_residence(FR) | 0.002478839177750907  | 0.044294294294294295 |\n",
            "+------------------------+-----------------------+----------------------+\n",
            "| employee_residence(GB) | 0.0017533252720677147 | 0.20445445445445445  |\n",
            "+------------------------+-----------------------+----------------------+\n",
            "| employee_residence(GE) | 0.0015114873035066505 | 0.007257257257257258 |\n",
            "+------------------------+-----------------------+----------------------+\n",
            "| employee_residence(GH) | 0.0019951632406287785 | 0.006256256256256257 |\n",
            "+------------------------+-----------------------+----------------------+\n",
            "| employee_residence(GR) | 0.0017533252720677147 | 0.02127127127127127  |\n",
            "+------------------------+-----------------------+----------------------+\n",
            "| employee_residence(HK) | 0.0017533252720677147 | 0.007257257257257258 |\n",
            "+------------------------+-----------------------+----------------------+\n",
            "| employee_residence(HN) | 0.0017533252720677147 | 0.006256256256256257 |\n",
            "+------------------------+-----------------------+----------------------+\n",
            "| employee_residence(HR) | 0.0015114873035066505 | 0.009259259259259259 |\n",
            "+------------------------+-----------------------+----------------------+\n",
            "| employee_residence(HU) | 0.0017533252720677147 | 0.008258258258258258 |\n",
            "+------------------------+-----------------------+----------------------+\n",
            "| employee_residence(ID) | 0.0017533252720677147 | 0.006256256256256257 |\n",
            "+------------------------+-----------------------+----------------------+\n",
            "| employee_residence(IE) | 0.0015114873035066505 | 0.013263263263263263 |\n",
            "+------------------------+-----------------------+----------------------+\n",
            "| employee_residence(IL) | 0.0017533252720677147 | 0.006256256256256257 |\n",
            "+------------------------+-----------------------+----------------------+\n",
            "| employee_residence(IN) | 0.018198307134220073  | 0.008258258258258258 |\n",
            "+------------------------+-----------------------+----------------------+\n",
            "| employee_residence(IQ) | 0.0017533252720677147 | 0.006256256256256257 |\n",
            "+------------------------+-----------------------+----------------------+\n",
            "| employee_residence(IR) | 0.0017533252720677147 | 0.006256256256256257 |\n",
            "+------------------------+-----------------------+----------------------+\n",
            "| employee_residence(IT) | 0.0019951632406287785 | 0.014264264264264264 |\n",
            "+------------------------+-----------------------+----------------------+\n",
            "| employee_residence(JE) | 0.0017533252720677147 | 0.006256256256256257 |\n",
            "+------------------------+-----------------------+----------------------+\n",
            "| employee_residence(JP) | 0.0034461910519951633 | 0.006256256256256257 |\n",
            "+------------------------+-----------------------+----------------------+\n",
            "| employee_residence(KE) | 0.0019951632406287785 | 0.006256256256256257 |\n",
            "+------------------------+-----------------------+----------------------+\n",
            "| employee_residence(KW) | 0.0017533252720677147 | 0.006256256256256257 |\n",
            "+------------------------+-----------------------+----------------------+\n",
            "| employee_residence(LT) | 0.0015114873035066505 | 0.008258258258258258 |\n",
            "+------------------------+-----------------------+----------------------+\n",
            "| employee_residence(LU) | 0.0017533252720677147 | 0.006256256256256257 |\n",
            "+------------------------+-----------------------+----------------------+\n",
            "| employee_residence(LV) | 0.0015114873035066505 | 0.01026026026026026  |\n",
            "+------------------------+-----------------------+----------------------+\n",
            "| employee_residence(MA) | 0.0017533252720677147 | 0.006256256256256257 |\n",
            "+------------------------+-----------------------+----------------------+\n",
            "| employee_residence(MD) | 0.0015114873035066505 | 0.007257257257257258 |\n",
            "+------------------------+-----------------------+----------------------+\n",
            "| employee_residence(MK) | 0.0015114873035066505 | 0.007257257257257258 |\n",
            "+------------------------+-----------------------+----------------------+\n",
            "| employee_residence(MT) | 0.0015114873035066505 | 0.007257257257257258 |\n",
            "+------------------------+-----------------------+----------------------+\n",
            "| employee_residence(MX) | 0.003929866989117291  | 0.006256256256256257 |\n",
            "+------------------------+-----------------------+----------------------+\n",
            "| employee_residence(MY) | 0.0017533252720677147 | 0.006256256256256257 |\n",
            "+------------------------+-----------------------+----------------------+\n",
            "| employee_residence(NG) | 0.003929866989117291  | 0.006256256256256257 |\n",
            "+------------------------+-----------------------+----------------------+\n",
            "| employee_residence(NL) | 0.0017533252720677147 | 0.02027027027027027  |\n",
            "+------------------------+-----------------------+----------------------+\n",
            "| employee_residence(NZ) | 0.0017533252720677147 | 0.006256256256256257 |\n",
            "+------------------------+-----------------------+----------------------+\n",
            "| employee_residence(PH) | 0.0022370012091898427 | 0.006256256256256257 |\n",
            "+------------------------+-----------------------+----------------------+\n",
            "| employee_residence(PK) | 0.002962515114873035  | 0.008258258258258258 |\n",
            "+------------------------+-----------------------+----------------------+\n",
            "| employee_residence(PL) | 0.002720677146311971  | 0.007257257257257258 |\n",
            "+------------------------+-----------------------+----------------------+\n",
            "| employee_residence(PR) | 0.002720677146311971  | 0.006256256256256257 |\n",
            "+------------------------+-----------------------+----------------------+\n",
            "| employee_residence(PT) | 0.0022370012091898427 | 0.02127127127127127  |\n",
            "+------------------------+-----------------------+----------------------+\n",
            "| employee_residence(RO) | 0.0017533252720677147 | 0.008258258258258258 |\n",
            "+------------------------+-----------------------+----------------------+\n",
            "| employee_residence(RS) | 0.0015114873035066505 | 0.007257257257257258 |\n",
            "+------------------------+-----------------------+----------------------+\n",
            "| employee_residence(RU) | 0.0019951632406287785 | 0.008258258258258258 |\n",
            "+------------------------+-----------------------+----------------------+\n",
            "| employee_residence(SE) | 0.0019951632406287785 | 0.006256256256256257 |\n",
            "+------------------------+-----------------------+----------------------+\n",
            "| employee_residence(SG) | 0.002720677146311971  | 0.006256256256256257 |\n",
            "+------------------------+-----------------------+----------------------+\n",
            "| employee_residence(SI) | 0.0015114873035066505 | 0.01026026026026026  |\n",
            "+------------------------+-----------------------+----------------------+\n",
            "| employee_residence(SK) | 0.0015114873035066505 | 0.007257257257257258 |\n",
            "+------------------------+-----------------------+----------------------+\n",
            "| employee_residence(TH) | 0.0022370012091898427 | 0.006256256256256257 |\n",
            "+------------------------+-----------------------+----------------------+\n",
            "| employee_residence(TN) | 0.0015114873035066505 | 0.007257257257257258 |\n",
            "+------------------------+-----------------------+----------------------+\n",
            "| employee_residence(TR) | 0.002720677146311971  | 0.006256256256256257 |\n",
            "+------------------------+-----------------------+----------------------+\n",
            "| employee_residence(UA) | 0.0015114873035066505 | 0.01026026026026026  |\n",
            "+------------------------+-----------------------+----------------------+\n",
            "| employee_residence(US) | 0.8005441354292624    | 0.008258258258258258 |\n",
            "+------------------------+-----------------------+----------------------+\n",
            "| employee_residence(UZ) | 0.0019951632406287785 | 0.007257257257257258 |\n",
            "+------------------------+-----------------------+----------------------+\n",
            "| employee_residence(VN) | 0.0019951632406287785 | 0.007257257257257258 |\n",
            "+------------------------+-----------------------+----------------------+\n",
            "| employee_residence(ZA) | 0.0017533252720677147 | 0.006256256256256257 |\n",
            "+------------------------+-----------------------+----------------------+\n",
            "[bnlearn] >CPD of salary_in_usd:\n",
            "+-------------------------+---------------------+---------------------+\n",
            "| country                 | country(USA)        | country(europe)     |\n",
            "+-------------------------+---------------------+---------------------+\n",
            "| salary_in_usd(100-160K) | 0.39492140266021764 | 0.1841841841841842  |\n",
            "+-------------------------+---------------------+---------------------+\n",
            "| salary_in_usd(160-250K) | 0.31632406287787185 | 0.12512512512512514 |\n",
            "+-------------------------+---------------------+---------------------+\n",
            "| salary_in_usd(60-100K)  | 0.13905683192261184 | 0.2882882882882883  |\n",
            "+-------------------------+---------------------+---------------------+\n",
            "| salary_in_usd(<60K)     | 0.07351874244256348 | 0.2952952952952953  |\n",
            "+-------------------------+---------------------+---------------------+\n",
            "| salary_in_usd(>250K)    | 0.0761789600967352  | 0.10710710710710711 |\n",
            "+-------------------------+---------------------+---------------------+\n",
            "[bnlearn] >CPD of experience_level:\n",
            "+-----+----------------------+\n",
            "| ... | salary_in_usd(>250K) |\n",
            "+-----+----------------------+\n",
            "| ... | 0.12085308056872038  |\n",
            "+-----+----------------------+\n",
            "| ... | 0.17298578199052134  |\n",
            "+-----+----------------------+\n",
            "| ... | 0.542654028436019    |\n",
            "+-----+----------------------+\n",
            "| ... | 0.16350710900473933  |\n",
            "+-----+----------------------+\n",
            "[bnlearn] >CPD of job_title:\n",
            "+---------------------------+-----+----------------------+\n",
            "| salary_in_usd             | ... | salary_in_usd(>250K) |\n",
            "+---------------------------+-----+----------------------+\n",
            "| job_title(Other)          | ... | 0.06770480704129994  |\n",
            "+---------------------------+-----+----------------------+\n",
            "| job_title(analyst)        | ... | 0.0961408259986459   |\n",
            "+---------------------------+-----+----------------------+\n",
            "| job_title(architect)      | ... | 0.0914014895057549   |\n",
            "+---------------------------+-----+----------------------+\n",
            "| job_title(data scientist) | ... | 0.21699390656736628  |\n",
            "+---------------------------+-----+----------------------+\n",
            "| job_title(engineer)       | ... | 0.3425863236289777   |\n",
            "+---------------------------+-----+----------------------+\n",
            "| job_title(lead/principal) | ... | 0.07718348002708192  |\n",
            "+---------------------------+-----+----------------------+\n",
            "| job_title(manager)        | ... | 0.10798916723087339  |\n",
            "+---------------------------+-----+----------------------+\n",
            "[bnlearn] >Compute structure scores for model comparison (higher is better).\n"
          ]
        }
      ]
    },
    {
      "cell_type": "code",
      "source": [
        "# Plot\n",
        "# bn.plot(model, params_static={'layout': 'planar_layout'}, title='method=hc and score=bic')\n",
        "bn.plot(model, title='method=hc and score=bic', params_static={'figsize': (8, 6), 'arrowsize': 20, 'font_size': 10});"
      ],
      "metadata": {
        "colab": {
          "base_uri": "https://localhost:8080/",
          "height": 1000
        },
        "id": "ayjMxfHUdnJB",
        "outputId": "5ca5486a-bddd-463e-cf27-e8a8289a8c7a"
      },
      "execution_count": 12,
      "outputs": [
        {
          "output_type": "stream",
          "name": "stdout",
          "text": [
            "[bnlearn] >Set node properties.\n",
            "[bnlearn]> Set edge weights based on the [chi_square] test statistic.\n",
            "[bnlearn] >Converting source-target into adjacency matrix..\n",
            "[bnlearn] >Making the matrix symmetric..\n",
            "[bnlearn] >Converting source-target into adjacency matrix..\n",
            "[bnlearn] >Making the matrix symmetric..\n",
            "[bnlearn] >Set edge properties.\n",
            "[bnlearn] >Plot based on Bayesian model\n"
          ]
        },
        {
          "output_type": "display_data",
          "data": {
            "text/plain": [
              "<Figure size 1600x1200 with 1 Axes>"
            ],
            "image/png": "[encoded data removed]"
          },
          "metadata": {}
        }
      ]
    },
    {
      "cell_type": "code",
      "source": [
        "!pip install d3blocks\n",
        "# bn.plot(model, interactive=True, params_interactive={'notebook': True});"
      ],
      "metadata": {
        "id": "_ZbUQY_odoyB"
      },
      "execution_count": null,
      "outputs": []
    },
    {
      "cell_type": "markdown",
      "source": [
        "# Make inferences using do-calculus"
      ],
      "metadata": {
        "id": "81KJHguGehB5"
      }
    },
    {
      "cell_type": "code",
      "source": [
        "query = bn.inference.fit(model, variables=['job_title'],\n",
        "                         evidence={'company_size': 'Large (>250)'})\n"
      ],
      "metadata": {
        "colab": {
          "base_uri": "https://localhost:8080/"
        },
        "id": "bu3YG17sdt0n",
        "outputId": "7540cf93-a392-494c-fae8-5076078112fa"
      },
      "execution_count": 14,
      "outputs": [
        {
          "output_type": "stream",
          "name": "stdout",
          "text": [
            "[bnlearn] >Variable Elimination.\n",
            "+----+----------------+-----------+\n",
            "|    | job_title      |         p |\n",
            "+====+================+===========+\n",
            "|  0 | Other          | 0.0319876 |\n",
            "+----+----------------+-----------+\n",
            "|  1 | analyst        | 0.208747  |\n",
            "+----+----------------+-----------+\n",
            "|  2 | architect      | 0.0512725 |\n",
            "+----+----------------+-----------+\n",
            "|  3 | data scientist | 0.266484  |\n",
            "+----+----------------+-----------+\n",
            "|  4 | engineer       | 0.341017  |\n",
            "+----+----------------+-----------+\n",
            "|  5 | lead/principal | 0.0411724 |\n",
            "+----+----------------+-----------+\n",
            "|  6 | manager        | 0.0593197 |\n",
            "+----+----------------+-----------+\n",
            "\n",
            "Summary for variables: ['job_title']\n",
            "Given evidence: company_size=Large (>250)\n",
            "\n",
            "job_title outcomes:\n",
            "- job_title: Other (3.2%)\n",
            "- job_title: analyst (20.9%)\n",
            "- job_title: architect (5.1%)\n",
            "- job_title: data scientist (26.6%)\n",
            "- job_title: engineer (34.1%)\n",
            "- job_title: lead/principal (4.1%)\n",
            "- job_title: manager (5.9%)\n"
          ]
        }
      ]
    },
    {
      "cell_type": "code",
      "source": [
        "# Change the variables accordingly\n",
        "from tabulate import tabulate\n",
        "print(tabulate([df['experience_level'].unique()], tablefmt=\"grid\", headers=\"keys\"))\n",
        "print(tabulate([df['job_title'].unique()], tablefmt=\"grid\", headers=\"keys\"))\n",
        "print(tabulate([df['remote_ratio'].unique()], tablefmt=\"grid\", headers=\"keys\"))"
      ],
      "metadata": {
        "colab": {
          "base_uri": "https://localhost:8080/"
        },
        "id": "A5UoqxM6er5Z",
        "outputId": "0eff346e-81b5-49eb-fca4-7527296ac41e"
      },
      "execution_count": 15,
      "outputs": [
        {
          "output_type": "stream",
          "name": "stdout",
          "text": [
            "+------------------+---------------------------+-------------+-----------------------------------+\n",
            "| 0                | 1                         | 2           | 3                                 |\n",
            "+==================+===========================+=============+===================================+\n",
            "| Junior Mid-level | Intermediate Senior-level | Entry-level | Expert Executive-level / Director |\n",
            "+------------------+---------------------------+-------------+-----------------------------------+\n",
            "+-----------+----------------+----------+---------+---------+----------------+-------+\n",
            "| 0         | 1              | 2        | 3       | 4       | 5              | 6     |\n",
            "+===========+================+==========+=========+=========+================+=======+\n",
            "| architect | data scientist | engineer | analyst | manager | lead/principal | Other |\n",
            "+-----------+----------------+----------+---------+---------+----------------+-------+\n",
            "+-------------+-----------+------------------+\n",
            "| 0           | 1         | 2                |\n",
            "+=============+===========+==================+\n",
            "| >80% remote | No remote | Partially remote |\n",
            "+-------------+-----------+------------------+\n"
          ]
        }
      ]
    },
    {
      "cell_type": "code",
      "source": [
        "query = bn.inference.fit(model,\n",
        "                         variables=['salary_in_usd'],\n",
        "                         evidence={'employment_type': 'Full-time',\n",
        "                                   'remote_ratio': 'Partially remote',\n",
        "                                   'job_title': 'data scientist',\n",
        "                                   'employee_residence': 'DE',\n",
        "                                    'experience_level': 'Intermediate Senior-level',\n",
        "                                   },\n",
        "                         )\n"
      ],
      "metadata": {
        "colab": {
          "base_uri": "https://localhost:8080/"
        },
        "id": "1JtCgUsnefe2",
        "outputId": "0b1f6fcc-2c0c-4e1f-fb53-304797b2229a"
      },
      "execution_count": 16,
      "outputs": [
        {
          "output_type": "stream",
          "name": "stdout",
          "text": [
            "[bnlearn] >Variable Elimination.\n",
            "+----+-----------------+----------+\n",
            "|    | salary_in_usd   |        p |\n",
            "+====+=================+==========+\n",
            "|  0 | 100-160K        | 0.239688 |\n",
            "+----+-----------------+----------+\n",
            "|  1 | 160-250K        | 0.222405 |\n",
            "+----+-----------------+----------+\n",
            "|  2 | 60-100K         | 0.194857 |\n",
            "+----+-----------------+----------+\n",
            "|  3 | <60K            | 0.228812 |\n",
            "+----+-----------------+----------+\n",
            "|  4 | >250K           | 0.114238 |\n",
            "+----+-----------------+----------+\n",
            "\n",
            "Summary for variables: ['salary_in_usd']\n",
            "Given evidence: employment_type=Full-time, remote_ratio=Partially remote, job_title=data scientist, employee_residence=DE, experience_level=Intermediate Senior-level\n",
            "\n",
            "salary_in_usd outcomes:\n",
            "- salary_in_usd: 100-160K (24.0%)\n",
            "- salary_in_usd: 160-250K (22.2%)\n",
            "- salary_in_usd: 60-100K (19.5%)\n",
            "- salary_in_usd: <60K (22.9%)\n",
            "- salary_in_usd: >250K (11.4%)\n"
          ]
        }
      ]
    },
    {
      "cell_type": "markdown",
      "source": [
        "\n",
        "---\n",
        "\n",
        "### Support\n",
        "This library is for free but it runs on coffee! :)\n",
        "\n",
        "You can [support](https://erdogant.github.io/pca/pages/html/Documentation.html) in various ways, have a look at the [sponser page](https://erdogant.github.io/bnlearn/pages/html/Documentation.html). Report bugs, issues and feature extensions at [github page](https://github.com/erdogant/bnlearn).\n",
        "\n",
        "<table>\n",
        "  <tr>\n",
        "    <td style=\"text-align: center;\">\n",
        "      <a href=\"https://www.buymeacoffee.com/erdogant\">\n",
        "        <img src=\"https://img.buymeacoffee.com/button-api/?text=Buy me a coffee&emoji=&slug=erdogant&button_colour=FFDD00&font_colour=000000&font_family=Cookie&outline_colour=000000&coffee_colour=ffffff\" />\n",
        "      </a>\n",
        "    </td>\n",
        "    <td style=\"text-align: center;\">\n",
        "      <a href=\"https://erdogant.medium.com/subscribe\" target=\"_blank\">\n",
        "        <img height=\"50\" style=\"border:0px;height:36px;\" src=\"https://erdogant.github.io/images/medium_follow_me.jpg\" border=\"0\" alt=\"Follow me on Medium\" />\n",
        "      </a>\n",
        "    </td>\n",
        "  </tr>\n",
        "</table>"
      ],
      "metadata": {
        "id": "U1dTDlJJfg58"
      }
    },
    {
      "cell_type": "code",
      "source": [],
      "metadata": {
        "id": "Z7jluXHn4Z-d"
      },
      "execution_count": 16,
      "outputs": []
    }
  ]
}